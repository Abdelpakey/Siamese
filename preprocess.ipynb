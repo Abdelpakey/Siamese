{
 "cells": [
  {
   "cell_type": "code",
   "execution_count": 1,
   "metadata": {
    "collapsed": true
   },
   "outputs": [],
   "source": [
    "import os\n",
    "import xml.etree.ElementTree as ET\n",
    "import struct\n",
    "from scipy import misc\n",
    "import numpy as np\n",
    "import ntpath\n",
    "import cv2\n",
    "import pdb\n",
    "import time\n",
    "\n",
    "current_time = lambda: int(round(time.time() * 1000))"
   ]
  },
  {
   "cell_type": "code",
   "execution_count": null,
   "metadata": {
    "collapsed": true
   },
   "outputs": [],
   "source": []
  },
  {
   "cell_type": "code",
   "execution_count": 2,
   "metadata": {
    "collapsed": true
   },
   "outputs": [],
   "source": [
    "# video_ids.sh"
   ]
  },
  {
   "cell_type": "code",
   "execution_count": 3,
   "metadata": {
    "collapsed": true
   },
   "outputs": [],
   "source": [
    "root_dir = 'ILSVRC'\n",
    "root_crop_dir = 'ILSVRC_crop'"
   ]
  },
  {
   "cell_type": "code",
   "execution_count": 4,
   "metadata": {},
   "outputs": [],
   "source": [
    "root_data_dir = os.path.join(root_dir, 'Data/VID/train')"
   ]
  },
  {
   "cell_type": "code",
   "execution_count": 5,
   "metadata": {},
   "outputs": [],
   "source": [
    "dirs = os.listdir(root_data_dir)\n",
    "dirs.sort()"
   ]
  },
  {
   "cell_type": "code",
   "execution_count": 6,
   "metadata": {},
   "outputs": [],
   "source": [
    "video_idx = 0\n",
    "records = []\n",
    "for dir in dirs:\n",
    "    dir_path = os.path.join(root_data_dir, dir)\n",
    "    sub_dirs = os.listdir(dir_path)\n",
    "    sub_dirs.sort()\n",
    "    for sub_dir in sub_dirs:\n",
    "        if \"txt\" in sub_dir:\n",
    "            continue\n",
    "        sub_dir_path = os.path.join(dir_path, sub_dir)\n",
    "        file_num = len(os.listdir(sub_dir_path))\n",
    "        record = sub_dir_path + \" \" + str(video_idx) + \" \" + str(file_num)\n",
    "        video_idx += 1\n",
    "        records.append(record)"
   ]
  },
  {
   "cell_type": "code",
   "execution_count": 7,
   "metadata": {
    "collapsed": true
   },
   "outputs": [],
   "source": [
    "with open(\"vid_id_frames.txt\", 'w') as f:\n",
    "    f.write('\\n'.join(records))"
   ]
  },
  {
   "cell_type": "code",
   "execution_count": null,
   "metadata": {
    "collapsed": true
   },
   "outputs": [],
   "source": []
  },
  {
   "cell_type": "code",
   "execution_count": null,
   "metadata": {
    "collapsed": true
   },
   "outputs": [],
   "source": []
  },
  {
   "cell_type": "code",
   "execution_count": 8,
   "metadata": {
    "collapsed": true
   },
   "outputs": [],
   "source": [
    "# per_frame_annotation.m and parse_objects.ml\n",
    "# Read per-frame XML annotations and write bbox and track info on txt files\n",
    "# Reads per_frame bbox and track information and generates per-video reports"
   ]
  },
  {
   "cell_type": "code",
   "execution_count": 9,
   "metadata": {
    "collapsed": true
   },
   "outputs": [],
   "source": [
    "class_names = ['n02691156','n02419796','n02131653','n02834778','n01503061','n02924116','n02958343','n02402425',\n",
    "               'n02084071','n02121808','n02503517','n02118333','n02510455','n02342885','n02374451','n02129165',\n",
    "               'n01674464','n02484322','n03790512','n02324045','n02509815','n02411705','n01726692','n02355227',\n",
    "               'n02129604','n04468005','n01662784','n04530566','n02062744','n02391049']"
   ]
  },
  {
   "cell_type": "code",
   "execution_count": 10,
   "metadata": {
    "collapsed": true
   },
   "outputs": [],
   "source": [
    "root_anno_dir = os.path.join(root_dir, 'Annotations/VID/train')"
   ]
  },
  {
   "cell_type": "code",
   "execution_count": 11,
   "metadata": {
    "collapsed": true
   },
   "outputs": [],
   "source": [
    "dirs = os.listdir(root_anno_dir)\n",
    "dirs.sort()"
   ]
  },
  {
   "cell_type": "code",
   "execution_count": 17,
   "metadata": {
    "collapsed": true
   },
   "outputs": [],
   "source": [
    "for i, dir in enumerate(dirs):\n",
    "    dir_path = os.path.join(root_anno_dir, dir)\n",
    "    sub_dirs = os.listdir(dir_path)\n",
    "    sub_dirs.sort()\n",
    "    data_dir_path = os.path.join(root_data_dir, dir)\n",
    "    for j, sub_dir in enumerate(sub_dirs):\n",
    "        sub_dir_path = os.path.join(dir_path, sub_dir)\n",
    "        xml_files = os.listdir(sub_dir_path)\n",
    "        xml_files.sort()\n",
    "        data_sub_dir_path = os.path.join(data_dir_path, sub_dir)\n",
    "        vid_records = []\n",
    "        for k, xml_file in enumerate(xml_files):\n",
    "            xml_path = os.path.join(sub_dir_path, xml_file)\n",
    "            img_path = os.path.join(data_sub_dir_path, xml_file).replace(\"xml\", \"JPEG\")\n",
    "            tree = ET.parse(xml_path)\n",
    "            root = tree.getroot()\n",
    "            \n",
    "            size = root.find(\"size\")\n",
    "            width = size.find(\"width\").text\n",
    "            height = size.find(\"height\").text\n",
    "            \n",
    "            objects = root.findall(\"object\")\n",
    "            records = []\n",
    "            for o_id, obj in enumerate(objects):\n",
    "                class_name = obj.find('name').text\n",
    "                class_id = class_names.index(class_name)\n",
    "                track_id = obj.find('trackid').text\n",
    "                xmax = obj.find('bndbox').find('xmax').text\n",
    "                xmin = obj.find('bndbox').find('xmin').text\n",
    "                ymax = obj.find('bndbox').find('ymax').text\n",
    "                ymin = obj.find('bndbox').find('ymin').text\n",
    "                \n",
    "                box_height = int(ymax) - int(ymin) + 1\n",
    "                box_width = int(xmax) - int(xmin) + 1\n",
    "                \n",
    "#                 record = str(i) + \",\" + str(j) + \",\" + str(k) + \",\" + str(o_id) + \",\" + track_id + \",\" + \\\n",
    "#                          str(class_id) + \",\" + width + \",\" + height + \",\" + xmin + \",\" + ymin + \",\" + \\\n",
    "#                          str(box_width) + \",\" + str(box_height) + \".\" + img_path\n",
    "#                 records.append(record)\n",
    "                \n",
    "                vid_record = track_id + \",\" + str(class_id) + \",\" + width + \",\" + height + \",\" + xmin + \",\" + \\\n",
    "                             ymin + \",\" + str(box_width) + \",\" + str(box_height) + \",\" + img_path\n",
    "                vid_records.append(vid_record)\n",
    "#             img_anno_path = img_path.replace(\".JPEG\", \".txt\")\n",
    "#             with open(img_anno_path, 'w') as f:\n",
    "#                 f.write('\\n'.join(records))\n",
    "                \n",
    "        with open(data_sub_dir_path + \".txt\", 'w') as f:\n",
    "            f.write('\\n'.join(vid_records))\n",
    "    break"
   ]
  },
  {
   "cell_type": "code",
   "execution_count": null,
   "metadata": {
    "collapsed": true
   },
   "outputs": [],
   "source": []
  },
  {
   "cell_type": "code",
   "execution_count": 8,
   "metadata": {
    "collapsed": true
   },
   "outputs": [],
   "source": [
    "# save_crops.m\n",
    "# Extract and save crops from video"
   ]
  },
  {
   "cell_type": "code",
   "execution_count": 9,
   "metadata": {
    "collapsed": true
   },
   "outputs": [],
   "source": [
    "exemplar_size = 127;\n",
    "instance_size = 255;\n",
    "context_amount = 0.5;"
   ]
  },
  {
   "cell_type": "code",
   "execution_count": 10,
   "metadata": {
    "collapsed": true
   },
   "outputs": [],
   "source": [
    "dirs = os.listdir(root_data_dir)\n",
    "dirs.sort()"
   ]
  },
  {
   "cell_type": "code",
   "execution_count": 11,
   "metadata": {
    "collapsed": true
   },
   "outputs": [],
   "source": [
    "def get_subwindow_avg(img, pos, model_sz, original_sz=None):\n",
    "\n",
    "    avg_chans = np.mean(img, (0,1))\n",
    "\n",
    "    if original_sz == None:\n",
    "        original_sz = model_sz;\n",
    "\n",
    "    sz = original_sz;\n",
    "    \n",
    "    img_shape = img.shape[0:2]\n",
    "    \n",
    "    c = [(sz[0] - 1) / 2, (sz[1] - 1) / 2]\n",
    "\n",
    "    context_xmin = int(pos[1] - c[1])\n",
    "    context_xmax = context_xmin + sz[1] - 1\n",
    "    context_ymin = int(pos[0] - c[0])\n",
    "    context_ymax = context_ymin + sz[0] - 1\n",
    "    \n",
    "    left_pad = np.max([0, -context_xmin])\n",
    "    top_pad = np.max([0, -context_ymin])\n",
    "    right_pad = np.max([0, context_xmax - img_shape[1] + 1])\n",
    "    bottom_pad = np.max([0, context_ymax - img_shape[0] + 1])\n",
    "    \n",
    "    context_xmin = context_xmin + left_pad\n",
    "    context_xmax = context_xmax + left_pad\n",
    "    context_ymin = context_ymin + top_pad\n",
    "    context_ymax = context_ymax + top_pad\n",
    "    \n",
    "    pad_height = img_shape[0] + top_pad + bottom_pad\n",
    "    pad_width = img_shape[1] + left_pad + right_pad\n",
    "    pad_img = np.zeros((img_shape[0] + top_pad + bottom_pad, img_shape[1] + left_pad + right_pad, 3))\n",
    "\n",
    "    avg_chans = np.expand_dims(np.expand_dims(avg_chans, 0), 0)\n",
    "    pad_img = cv2.resize(avg_chans, (img_shape[1] + left_pad + right_pad, img_shape[0] + top_pad + bottom_pad))\n",
    "    pad_img[top_pad:top_pad + img_shape[0], left_pad:left_pad + img_shape[1], :] = img\n",
    "\n",
    "    img_patch_original = pad_img[context_ymin:context_ymax, context_xmin:context_xmax,:]\n",
    "    \n",
    "    img_patch = cv2.resize(img_patch_original, model_sz)\n",
    "    \n",
    "    return img_patch, left_pad, top_pad, right_pad, bottom_pad"
   ]
  },
  {
   "cell_type": "code",
   "execution_count": 12,
   "metadata": {
    "collapsed": true
   },
   "outputs": [],
   "source": [
    "def get_crops(img, xmin, ymin, box_width, box_height):\n",
    "    xmax = xmin + box_width - 1\n",
    "    ymax = ymin + box_height - 1\n",
    "    xcenter = (xmin + xmax) / 2\n",
    "    ycenter = (ymin + ymax) / 2\n",
    "    \n",
    "    box_width_z = box_width + context_amount * (box_width + box_height)\n",
    "    box_height_z = box_height + context_amount * (box_width + box_height)\n",
    "    \n",
    "    s_z = np.sqrt(box_width_z * box_height_z)\n",
    "    scale_z = exemplar_size / s_z\n",
    "    \n",
    "    img_crop_z, left_pad_z, top_pad_z, right_pad_z, bottom_pad_z = \\\n",
    "        get_subwindow_avg(img, (ycenter, xcenter), (exemplar_size, exemplar_size), (int(s_z), int(s_z)))\n",
    "    \n",
    "    pad_z = np.ceil([scale_z * left_pad_z,\n",
    "                     scale_z * top_pad_z,\n",
    "                     exemplar_size - scale_z * (right_pad_z + left_pad_z),\n",
    "                     exemplar_size - scale_z * (top_pad_z + bottom_pad_z)])\n",
    "\n",
    "    s_x = s_z * instance_size / exemplar_size\n",
    "    scale_x = instance_size / s_x\n",
    "    img_crop_x, left_pad_x, top_pad_x, right_pad_x, bottom_pad_x = \\\n",
    "        get_subwindow_avg(img, (ycenter, xcenter), (instance_size, instance_size), (int(s_x), int(s_x)))\n",
    "    pad_x = np.ceil([scale_x * left_pad_x,\n",
    "                     scale_x * top_pad_x,\n",
    "                     instance_size - scale_x * (right_pad_x + left_pad_x),\n",
    "                     instance_size - scale_x * (top_pad_x + bottom_pad_x)])\n",
    "    \n",
    "    return img_crop_z, pad_z, img_crop_x, pad_x"
   ]
  },
  {
   "cell_type": "code",
   "execution_count": 15,
   "metadata": {},
   "outputs": [
    {
     "name": "stdout",
     "output_type": "stream",
     "text": [
      "ILSVRC2015_VID_train_0000\n",
      "    ILSVRC2015_train_00000000.txt\n",
      "    ILSVRC2015_train_00001000.txt\n",
      "    ILSVRC2015_train_00001001.txt\n",
      "    ILSVRC2015_train_00001002.txt\n",
      "    ILSVRC2015_train_00001003.txt\n",
      "    ILSVRC2015_train_00001004.txt\n",
      "    ILSVRC2015_train_00001005.txt\n",
      "    ILSVRC2015_train_00001006.txt\n",
      "    ILSVRC2015_train_00001007.txt\n",
      "    ILSVRC2015_train_00001008.txt\n",
      "    ILSVRC2015_train_00002000.txt\n",
      "    ILSVRC2015_train_00003000.txt\n",
      "    ILSVRC2015_train_00004000.txt\n",
      "    ILSVRC2015_train_00005000.txt\n",
      "    ILSVRC2015_train_00005001.txt\n",
      "    ILSVRC2015_train_00005002.txt\n",
      "    ILSVRC2015_train_00005003.txt\n",
      "    ILSVRC2015_train_00005004.txt\n",
      "    ILSVRC2015_train_00005005.txt\n",
      "    ILSVRC2015_train_00005006.txt\n",
      "    ILSVRC2015_train_00005007.txt\n",
      "    ILSVRC2015_train_00005008.txt\n",
      "    ILSVRC2015_train_00005009.txt\n",
      "    ILSVRC2015_train_00005010.txt\n",
      "    ILSVRC2015_train_00005011.txt\n",
      "    ILSVRC2015_train_00005012.txt\n",
      "    ILSVRC2015_train_00005013.txt\n",
      "    ILSVRC2015_train_00005014.txt\n",
      "    ILSVRC2015_train_00005015.txt\n",
      "    ILSVRC2015_train_00005016.txt\n",
      "    ILSVRC2015_train_00005017.txt\n",
      "    ILSVRC2015_train_00005018.txt\n",
      "    ILSVRC2015_train_00005019.txt\n",
      "    ILSVRC2015_train_00006000.txt\n",
      "    ILSVRC2015_train_00006001.txt\n",
      "    ILSVRC2015_train_00006002.txt\n",
      "    ILSVRC2015_train_00006003.txt\n",
      "    ILSVRC2015_train_00007000.txt\n",
      "    ILSVRC2015_train_00008000.txt\n",
      "    ILSVRC2015_train_00008001.txt\n",
      "    ILSVRC2015_train_00008002.txt\n",
      "    ILSVRC2015_train_00008003.txt\n",
      "    ILSVRC2015_train_00008004.txt\n",
      "    ILSVRC2015_train_00008005.txt\n",
      "    ILSVRC2015_train_00008006.txt\n",
      "    ILSVRC2015_train_00008007.txt\n",
      "    ILSVRC2015_train_00008008.txt\n",
      "    ILSVRC2015_train_00009000.txt\n",
      "    ILSVRC2015_train_00010000.txt\n",
      "    ILSVRC2015_train_00010001.txt\n",
      "    ILSVRC2015_train_00010002.txt\n",
      "    ILSVRC2015_train_00010003.txt\n",
      "    ILSVRC2015_train_00010004.txt\n",
      "    ILSVRC2015_train_00010005.txt\n",
      "    ILSVRC2015_train_00010006.txt\n",
      "    ILSVRC2015_train_00010007.txt\n",
      "    ILSVRC2015_train_00010008.txt\n",
      "    ILSVRC2015_train_00010009.txt\n",
      "    ILSVRC2015_train_00010010.txt\n",
      "    ILSVRC2015_train_00010011.txt\n",
      "    ILSVRC2015_train_00010012.txt\n",
      "    ILSVRC2015_train_00010013.txt\n",
      "    ILSVRC2015_train_00010014.txt\n",
      "    ILSVRC2015_train_00010015.txt\n",
      "    ILSVRC2015_train_00010016.txt\n",
      "    ILSVRC2015_train_00010017.txt\n",
      "    ILSVRC2015_train_00010018.txt\n",
      "    ILSVRC2015_train_00010019.txt\n",
      "    ILSVRC2015_train_00010020.txt\n",
      "    ILSVRC2015_train_00010021.txt\n",
      "    ILSVRC2015_train_00010022.txt\n",
      "    ILSVRC2015_train_00010023.txt\n",
      "    ILSVRC2015_train_00010024.txt\n",
      "    ILSVRC2015_train_00010025.txt\n",
      "    ILSVRC2015_train_00010026.txt\n",
      "    ILSVRC2015_train_00010027.txt\n",
      "    ILSVRC2015_train_00010028.txt\n",
      "    ILSVRC2015_train_00010029.txt\n",
      "    ILSVRC2015_train_00010030.txt\n",
      "    ILSVRC2015_train_00010031.txt\n",
      "    ILSVRC2015_train_00010032.txt\n",
      "    ILSVRC2015_train_00010033.txt\n",
      "    ILSVRC2015_train_00010034.txt\n",
      "    ILSVRC2015_train_00010035.txt\n",
      "    ILSVRC2015_train_00010036.txt\n",
      "    ILSVRC2015_train_00010037.txt\n",
      "    ILSVRC2015_train_00010038.txt\n",
      "    ILSVRC2015_train_00010039.txt\n",
      "    ILSVRC2015_train_00010040.txt\n",
      "    ILSVRC2015_train_00011000.txt\n",
      "    ILSVRC2015_train_00012000.txt\n",
      "    ILSVRC2015_train_00012001.txt\n",
      "    ILSVRC2015_train_00012002.txt\n",
      "    ILSVRC2015_train_00012003.txt\n",
      "    ILSVRC2015_train_00012004.txt\n",
      "    ILSVRC2015_train_00012005.txt\n",
      "    ILSVRC2015_train_00012006.txt\n",
      "    ILSVRC2015_train_00012007.txt\n",
      "    ILSVRC2015_train_00012008.txt\n",
      "    ILSVRC2015_train_00012009.txt\n",
      "    ILSVRC2015_train_00012010.txt\n",
      "    ILSVRC2015_train_00013000.txt\n",
      "    ILSVRC2015_train_00013001.txt\n",
      "    ILSVRC2015_train_00013002.txt\n",
      "    ILSVRC2015_train_00013003.txt\n",
      "    ILSVRC2015_train_00013004.txt\n",
      "    ILSVRC2015_train_00013005.txt\n",
      "    ILSVRC2015_train_00013006.txt\n",
      "    ILSVRC2015_train_00013007.txt\n",
      "    ILSVRC2015_train_00013008.txt\n",
      "    ILSVRC2015_train_00013009.txt\n",
      "    ILSVRC2015_train_00013010.txt\n",
      "    ILSVRC2015_train_00014000.txt\n",
      "    ILSVRC2015_train_00014001.txt\n",
      "    ILSVRC2015_train_00014002.txt\n",
      "    ILSVRC2015_train_00014003.txt\n",
      "    ILSVRC2015_train_00014004.txt\n",
      "    ILSVRC2015_train_00014005.txt\n",
      "    ILSVRC2015_train_00014006.txt\n",
      "    ILSVRC2015_train_00014007.txt\n",
      "    ILSVRC2015_train_00014008.txt\n",
      "    ILSVRC2015_train_00014009.txt\n",
      "    ILSVRC2015_train_00014010.txt\n",
      "    ILSVRC2015_train_00014011.txt\n",
      "    ILSVRC2015_train_00014012.txt\n",
      "    ILSVRC2015_train_00014013.txt\n",
      "    ILSVRC2015_train_00014014.txt\n",
      "    ILSVRC2015_train_00014015.txt\n",
      "    ILSVRC2015_train_00014016.txt\n",
      "    ILSVRC2015_train_00014017.txt\n",
      "    ILSVRC2015_train_00014018.txt\n",
      "    ILSVRC2015_train_00014019.txt\n",
      "    ILSVRC2015_train_00014020.txt\n",
      "    ILSVRC2015_train_00014021.txt\n",
      "    ILSVRC2015_train_00014022.txt\n",
      "    ILSVRC2015_train_00014023.txt\n",
      "    ILSVRC2015_train_00014024.txt\n",
      "    ILSVRC2015_train_00014025.txt\n",
      "    ILSVRC2015_train_00014026.txt\n",
      "    ILSVRC2015_train_00014027.txt\n",
      "    ILSVRC2015_train_00014028.txt\n",
      "    ILSVRC2015_train_00014029.txt\n",
      "    ILSVRC2015_train_00014030.txt\n",
      "    ILSVRC2015_train_00014031.txt\n",
      "    ILSVRC2015_train_00015000.txt\n",
      "    ILSVRC2015_train_00016000.txt\n",
      "    ILSVRC2015_train_00016001.txt\n",
      "    ILSVRC2015_train_00016002.txt\n",
      "    ILSVRC2015_train_00016003.txt\n",
      "    ILSVRC2015_train_00016004.txt\n",
      "    ILSVRC2015_train_00016005.txt\n",
      "    ILSVRC2015_train_00016006.txt\n",
      "    ILSVRC2015_train_00016007.txt\n",
      "    ILSVRC2015_train_00016008.txt\n",
      "    ILSVRC2015_train_00016009.txt\n",
      "    ILSVRC2015_train_00016010.txt\n",
      "    ILSVRC2015_train_00016011.txt\n",
      "    ILSVRC2015_train_00016012.txt\n",
      "    ILSVRC2015_train_00017000.txt\n",
      "    ILSVRC2015_train_00017001.txt\n",
      "    ILSVRC2015_train_00017002.txt\n",
      "    ILSVRC2015_train_00017003.txt\n",
      "    ILSVRC2015_train_00017004.txt\n",
      "    ILSVRC2015_train_00017005.txt\n",
      "    ILSVRC2015_train_00018000.txt\n",
      "    ILSVRC2015_train_00018001.txt\n",
      "    ILSVRC2015_train_00018002.txt\n",
      "    ILSVRC2015_train_00018003.txt\n",
      "    ILSVRC2015_train_00019000.txt\n",
      "    ILSVRC2015_train_00019001.txt\n",
      "    ILSVRC2015_train_00020000.txt\n",
      "    ILSVRC2015_train_00020001.txt\n",
      "    ILSVRC2015_train_00020002.txt\n",
      "> <ipython-input-15-efbbd8372a71>(18)<module>()\n",
      "-> for record in records:\n",
      "(Pdb) records\n",
      "['0,7,640,480,109,103,531,250,ILSVRC/Data/VID/train/ILSVRC2015_VID_train_0000/ILSVRC2015_train_00020002/000000.JPEG\\n', '1,7,640,480,199,64,91,58,ILSVRC/Data/VID/train/ILSVRC2015_VID_train_0000/ILSVRC2015_train_00020002/000000.JPEG\\n', '0,7,640,480,109,102,531,251,ILSVRC/Data/VID/train/ILSVRC2015_VID_train_0000/ILSVRC2015_train_00020002/000001.JPEG\\n', '1,7,640,480,199,64,91,57,ILSVRC/Data/VID/train/ILSVRC2015_VID_train_0000/ILSVRC2015_train_00020002/000001.JPEG\\n', '0,7,640,480,109,102,531,251,ILSVRC/Data/VID/train/ILSVRC2015_VID_train_0000/ILSVRC2015_train_00020002/000002.JPEG\\n', '1,7,640,480,200,64,91,57,ILSVRC/Data/VID/train/ILSVRC2015_VID_train_0000/ILSVRC2015_train_00020002/000002.JPEG\\n', '0,7,640,480,109,102,531,251,ILSVRC/Data/VID/train/ILSVRC2015_VID_train_0000/ILSVRC2015_train_00020002/000003.JPEG\\n', '1,7,640,480,200,64,92,57,ILSVRC/Data/VID/train/ILSVRC2015_VID_train_0000/ILSVRC2015_train_00020002/000003.JPEG\\n', '0,7,640,480,109,102,531,251,ILSVRC/Data/VID/train/ILSVRC2015_VID_train_0000/ILSVRC2015_train_00020002/000004.JPEG\\n', '1,7,640,480,201,64,91,57,ILSVRC/Data/VID/train/ILSVRC2015_VID_train_0000/ILSVRC2015_train_00020002/000004.JPEG\\n', '0,7,640,480,109,102,531,251,ILSVRC/Data/VID/train/ILSVRC2015_VID_train_0000/ILSVRC2015_train_00020002/000005.JPEG\\n', '1,7,640,480,201,64,92,57,ILSVRC/Data/VID/train/ILSVRC2015_VID_train_0000/ILSVRC2015_train_00020002/000005.JPEG\\n', '0,7,640,480,109,101,531,252,ILSVRC/Data/VID/train/ILSVRC2015_VID_train_0000/ILSVRC2015_train_00020002/000006.JPEG\\n', '1,7,640,480,202,64,92,57,ILSVRC/Data/VID/train/ILSVRC2015_VID_train_0000/ILSVRC2015_train_00020002/000006.JPEG\\n', '0,7,640,480,109,101,531,252,ILSVRC/Data/VID/train/ILSVRC2015_VID_train_0000/ILSVRC2015_train_00020002/000007.JPEG\\n', '1,7,640,480,202,64,92,57,ILSVRC/Data/VID/train/ILSVRC2015_VID_train_0000/ILSVRC2015_train_00020002/000007.JPEG\\n', '0,7,640,480,109,101,531,252,ILSVRC/Data/VID/train/ILSVRC2015_VID_train_0000/ILSVRC2015_train_00020002/000008.JPEG\\n', '1,7,640,480,203,64,92,57,ILSVRC/Data/VID/train/ILSVRC2015_VID_train_0000/ILSVRC2015_train_00020002/000008.JPEG\\n', '0,7,640,480,109,101,531,252,ILSVRC/Data/VID/train/ILSVRC2015_VID_train_0000/ILSVRC2015_train_00020002/000009.JPEG\\n', '1,7,640,480,203,64,93,57,ILSVRC/Data/VID/train/ILSVRC2015_VID_train_0000/ILSVRC2015_train_00020002/000009.JPEG\\n', '0,7,640,480,110,101,530,253,ILSVRC/Data/VID/train/ILSVRC2015_VID_train_0000/ILSVRC2015_train_00020002/000010.JPEG\\n', '1,7,640,480,204,64,93,57,ILSVRC/Data/VID/train/ILSVRC2015_VID_train_0000/ILSVRC2015_train_00020002/000010.JPEG\\n', '0,7,640,480,108,100,532,253,ILSVRC/Data/VID/train/ILSVRC2015_VID_train_0000/ILSVRC2015_train_00020002/000011.JPEG\\n', '1,7,640,480,204,63,93,57,ILSVRC/Data/VID/train/ILSVRC2015_VID_train_0000/ILSVRC2015_train_00020002/000011.JPEG\\n', '0,7,640,480,106,100,534,253,ILSVRC/Data/VID/train/ILSVRC2015_VID_train_0000/ILSVRC2015_train_00020002/000012.JPEG\\n', '1,7,640,480,204,63,94,57,ILSVRC/Data/VID/train/ILSVRC2015_VID_train_0000/ILSVRC2015_train_00020002/000012.JPEG\\n', '0,7,640,480,105,99,535,254,ILSVRC/Data/VID/train/ILSVRC2015_VID_train_0000/ILSVRC2015_train_00020002/000013.JPEG\\n', '1,7,640,480,205,63,93,57,ILSVRC/Data/VID/train/ILSVRC2015_VID_train_0000/ILSVRC2015_train_00020002/000013.JPEG\\n', '0,7,640,480,103,99,537,253,ILSVRC/Data/VID/train/ILSVRC2015_VID_train_0000/ILSVRC2015_train_00020002/000014.JPEG\\n', '1,7,640,480,205,63,94,57,ILSVRC/Data/VID/train/ILSVRC2015_VID_train_0000/ILSVRC2015_train_00020002/000014.JPEG\\n', '0,7,640,480,102,99,538,253,ILSVRC/Data/VID/train/ILSVRC2015_VID_train_0000/ILSVRC2015_train_00020002/000015.JPEG\\n', '1,7,640,480,206,63,93,57,ILSVRC/Data/VID/train/ILSVRC2015_VID_train_0000/ILSVRC2015_train_00020002/000015.JPEG\\n', '0,7,640,480,100,98,540,254,ILSVRC/Data/VID/train/ILSVRC2015_VID_train_0000/ILSVRC2015_train_00020002/000016.JPEG\\n', '1,7,640,480,206,62,94,58,ILSVRC/Data/VID/train/ILSVRC2015_VID_train_0000/ILSVRC2015_train_00020002/000016.JPEG\\n', '0,7,640,480,98,98,542,253,ILSVRC/Data/VID/train/ILSVRC2015_VID_train_0000/ILSVRC2015_train_00020002/000017.JPEG\\n', '1,7,640,480,206,62,94,58,ILSVRC/Data/VID/train/ILSVRC2015_VID_train_0000/ILSVRC2015_train_00020002/000017.JPEG\\n', '0,7,640,480,97,97,543,254,ILSVRC/Data/VID/train/ILSVRC2015_VID_train_0000/ILSVRC2015_train_00020002/000018.JPEG\\n', '1,7,640,480,207,62,94,58,ILSVRC/Data/VID/train/ILSVRC2015_VID_train_0000/ILSVRC2015_train_00020002/000018.JPEG\\n', '0,7,640,480,95,97,545,254,ILSVRC/Data/VID/train/ILSVRC2015_VID_train_0000/ILSVRC2015_train_00020002/000019.JPEG\\n', '1,7,640,480,207,62,94,58,ILSVRC/Data/VID/train/ILSVRC2015_VID_train_0000/ILSVRC2015_train_00020002/000019.JPEG\\n', '0,7,640,480,94,97,546,254,ILSVRC/Data/VID/train/ILSVRC2015_VID_train_0000/ILSVRC2015_train_00020002/000020.JPEG\\n', '1,7,640,480,208,62,94,58,ILSVRC/Data/VID/train/ILSVRC2015_VID_train_0000/ILSVRC2015_train_00020002/000020.JPEG\\n', '0,7,640,480,91,97,549,254,ILSVRC/Data/VID/train/ILSVRC2015_VID_train_0000/ILSVRC2015_train_00020002/000021.JPEG\\n', '1,7,640,480,208,62,94,58,ILSVRC/Data/VID/train/ILSVRC2015_VID_train_0000/ILSVRC2015_train_00020002/000021.JPEG\\n', '0,7,640,480,89,97,551,254,ILSVRC/Data/VID/train/ILSVRC2015_VID_train_0000/ILSVRC2015_train_00020002/000022.JPEG\\n', '1,7,640,480,208,62,95,58,ILSVRC/Data/VID/train/ILSVRC2015_VID_train_0000/ILSVRC2015_train_00020002/000022.JPEG\\n', '0,7,640,480,86,97,554,254,ILSVRC/Data/VID/train/ILSVRC2015_VID_train_0000/ILSVRC2015_train_00020002/000023.JPEG\\n', '1,7,640,480,208,62,96,58,ILSVRC/Data/VID/train/ILSVRC2015_VID_train_0000/ILSVRC2015_train_00020002/000023.JPEG\\n', '0,7,640,480,84,97,556,254,ILSVRC/Data/VID/train/ILSVRC2015_VID_train_0000/ILSVRC2015_train_00020002/000024.JPEG\\n', '1,7,640,480,208,62,96,58,ILSVRC/Data/VID/train/ILSVRC2015_VID_train_0000/ILSVRC2015_train_00020002/000024.JPEG\\n', '0,7,640,480,81,97,559,254,ILSVRC/Data/VID/train/ILSVRC2015_VID_train_0000/ILSVRC2015_train_00020002/000025.JPEG\\n', '1,7,640,480,208,62,97,58,ILSVRC/Data/VID/train/ILSVRC2015_VID_train_0000/ILSVRC2015_train_00020002/000025.JPEG\\n', '0,7,640,480,79,97,561,254,ILSVRC/Data/VID/train/ILSVRC2015_VID_train_0000/ILSVRC2015_train_00020002/000026.JPEG\\n', '1,7,640,480,208,62,98,58,ILSVRC/Data/VID/train/ILSVRC2015_VID_train_0000/ILSVRC2015_train_00020002/000026.JPEG\\n', '0,7,640,480,76,97,564,254,ILSVRC/Data/VID/train/ILSVRC2015_VID_train_0000/ILSVRC2015_train_00020002/000027.JPEG\\n', '1,7,640,480,208,62,98,58,ILSVRC/Data/VID/train/ILSVRC2015_VID_train_0000/ILSVRC2015_train_00020002/000027.JPEG\\n', '0,7,640,480,74,97,566,254,ILSVRC/Data/VID/train/ILSVRC2015_VID_train_0000/ILSVRC2015_train_00020002/000028.JPEG\\n', '1,7,640,480,208,62,99,58,ILSVRC/Data/VID/train/ILSVRC2015_VID_train_0000/ILSVRC2015_train_00020002/000028.JPEG\\n', '0,7,640,480,71,97,569,254,ILSVRC/Data/VID/train/ILSVRC2015_VID_train_0000/ILSVRC2015_train_00020002/000029.JPEG\\n', '1,7,640,480,208,62,100,58,ILSVRC/Data/VID/train/ILSVRC2015_VID_train_0000/ILSVRC2015_train_00020002/000029.JPEG\\n', '0,7,640,480,69,97,571,255,ILSVRC/Data/VID/train/ILSVRC2015_VID_train_0000/ILSVRC2015_train_00020002/000030.JPEG\\n', '1,7,640,480,208,62,101,58,ILSVRC/Data/VID/train/ILSVRC2015_VID_train_0000/ILSVRC2015_train_00020002/000030.JPEG\\n', '0,7,640,480,68,98,572,254,ILSVRC/Data/VID/train/ILSVRC2015_VID_train_0000/ILSVRC2015_train_00020002/000031.JPEG\\n', '1,7,640,480,209,62,101,58,ILSVRC/Data/VID/train/ILSVRC2015_VID_train_0000/ILSVRC2015_train_00020002/000031.JPEG\\n', '0,7,640,480,68,99,572,253,ILSVRC/Data/VID/train/ILSVRC2015_VID_train_0000/ILSVRC2015_train_00020002/000032.JPEG\\n', '1,7,640,480,211,62,101,58,ILSVRC/Data/VID/train/ILSVRC2015_VID_train_0000/ILSVRC2015_train_00020002/000032.JPEG\\n', '0,7,640,480,67,100,573,252,ILSVRC/Data/VID/train/ILSVRC2015_VID_train_0000/ILSVRC2015_train_00020002/000033.JPEG\\n', '1,7,640,480,213,62,101,58,ILSVRC/Data/VID/train/ILSVRC2015_VID_train_0000/ILSVRC2015_train_00020002/000033.JPEG\\n', '0,7,640,480,67,101,573,251,ILSVRC/Data/VID/train/ILSVRC2015_VID_train_0000/ILSVRC2015_train_00020002/000034.JPEG\\n', '1,7,640,480,214,62,101,58,ILSVRC/Data/VID/train/ILSVRC2015_VID_train_0000/ILSVRC2015_train_00020002/000034.JPEG\\n', '0,7,640,480,66,103,574,249,ILSVRC/Data/VID/train/ILSVRC2015_VID_train_0000/ILSVRC2015_train_00020002/000035.JPEG\\n', '1,7,640,480,216,62,101,58,ILSVRC/Data/VID/train/ILSVRC2015_VID_train_0000/ILSVRC2015_train_00020002/000035.JPEG\\n', '0,7,640,480,66,104,574,248,ILSVRC/Data/VID/train/ILSVRC2015_VID_train_0000/ILSVRC2015_train_00020002/000036.JPEG\\n', '1,7,640,480,218,62,101,58,ILSVRC/Data/VID/train/ILSVRC2015_VID_train_0000/ILSVRC2015_train_00020002/000036.JPEG\\n', '0,7,640,480,65,105,575,247,ILSVRC/Data/VID/train/ILSVRC2015_VID_train_0000/ILSVRC2015_train_00020002/000037.JPEG\\n', '1,7,640,480,219,62,101,58,ILSVRC/Data/VID/train/ILSVRC2015_VID_train_0000/ILSVRC2015_train_00020002/000037.JPEG\\n', '0,7,640,480,65,106,575,246,ILSVRC/Data/VID/train/ILSVRC2015_VID_train_0000/ILSVRC2015_train_00020002/000038.JPEG\\n', '1,7,640,480,221,62,101,58,ILSVRC/Data/VID/train/ILSVRC2015_VID_train_0000/ILSVRC2015_train_00020002/000038.JPEG\\n', '0,7,640,480,64,107,576,245,ILSVRC/Data/VID/train/ILSVRC2015_VID_train_0000/ILSVRC2015_train_00020002/000039.JPEG\\n', '1,7,640,480,223,62,101,58,ILSVRC/Data/VID/train/ILSVRC2015_VID_train_0000/ILSVRC2015_train_00020002/000039.JPEG\\n', '0,7,640,480,64,109,576,244,ILSVRC/Data/VID/train/ILSVRC2015_VID_train_0000/ILSVRC2015_train_00020002/000040.JPEG\\n', '1,7,640,480,225,62,101,58,ILSVRC/Data/VID/train/ILSVRC2015_VID_train_0000/ILSVRC2015_train_00020002/000040.JPEG\\n', '0,7,640,480,62,110,578,243,ILSVRC/Data/VID/train/ILSVRC2015_VID_train_0000/ILSVRC2015_train_00020002/000041.JPEG\\n', '1,7,640,480,227,62,100,58,ILSVRC/Data/VID/train/ILSVRC2015_VID_train_0000/ILSVRC2015_train_00020002/000041.JPEG\\n', '0,7,640,480,60,112,580,241,ILSVRC/Data/VID/train/ILSVRC2015_VID_train_0000/ILSVRC2015_train_00020002/000042.JPEG\\n', '1,7,640,480,229,62,100,58,ILSVRC/Data/VID/train/ILSVRC2015_VID_train_0000/ILSVRC2015_train_00020002/000042.JPEG\\n', '0,7,640,480,59,114,581,239,ILSVRC/Data/VID/train/ILSVRC2015_VID_train_0000/ILSVRC2015_train_00020002/000043.JPEG\\n', '1,7,640,480,231,62,100,58,ILSVRC/Data/VID/train/ILSVRC2015_VID_train_0000/ILSVRC2015_train_00020002/000043.JPEG\\n', '0,7,640,480,57,116,583,237,ILSVRC/Data/VID/train/ILSVRC2015_VID_train_0000/ILSVRC2015_train_00020002/000044.JPEG\\n', '1,7,640,480,233,62,100,58,ILSVRC/Data/VID/train/ILSVRC2015_VID_train_0000/ILSVRC2015_train_00020002/000044.JPEG\\n', '0,7,640,480,56,118,584,235,ILSVRC/Data/VID/train/ILSVRC2015_VID_train_0000/ILSVRC2015_train_00020002/000045.JPEG\\n', '1,7,640,480,235,62,100,58,ILSVRC/Data/VID/train/ILSVRC2015_VID_train_0000/ILSVRC2015_train_00020002/000045.JPEG\\n', '0,7,640,480,54,119,586,234,ILSVRC/Data/VID/train/ILSVRC2015_VID_train_0000/ILSVRC2015_train_00020002/000046.JPEG\\n', '1,7,640,480,237,62,99,58,ILSVRC/Data/VID/train/ILSVRC2015_VID_train_0000/ILSVRC2015_train_00020002/000046.JPEG\\n', '0,7,640,480,52,121,588,232,ILSVRC/Data/VID/train/ILSVRC2015_VID_train_0000/ILSVRC2015_train_00020002/000047.JPEG\\n', '1,7,640,480,239,62,99,58,ILSVRC/Data/VID/train/ILSVRC2015_VID_train_0000/ILSVRC2015_train_00020002/000047.JPEG\\n', '0,7,640,480,51,123,589,230,ILSVRC/Data/VID/train/ILSVRC2015_VID_train_0000/ILSVRC2015_train_00020002/000048.JPEG\\n', '1,7,640,480,241,62,99,58,ILSVRC/Data/VID/train/ILSVRC2015_VID_train_0000/ILSVRC2015_train_00020002/000048.JPEG\\n', '0,7,640,480,49,125,591,228,ILSVRC/Data/VID/train/ILSVRC2015_VID_train_0000/ILSVRC2015_train_00020002/000049.JPEG\\n', '1,7,640,480,243,62,99,58,ILSVRC/Data/VID/train/ILSVRC2015_VID_train_0000/ILSVRC2015_train_00020002/000049.JPEG\\n', '0,7,640,480,48,127,592,226,ILSVRC/Data/VID/train/ILSVRC2015_VID_train_0000/ILSVRC2015_train_00020002/000050.JPEG\\n', '1,7,640,480,245,63,99,58,ILSVRC/Data/VID/train/ILSVRC2015_VID_train_0000/ILSVRC2015_train_00020002/000050.JPEG\\n', '0,7,640,480,49,126,590,226,ILSVRC/Data/VID/train/ILSVRC2015_VID_train_0000/ILSVRC2015_train_00020002/000051.JPEG\\n', '1,7,640,480,247,62,99,58,ILSVRC/Data/VID/train/ILSVRC2015_VID_train_0000/ILSVRC2015_train_00020002/000051.JPEG\\n', '0,7,640,480,50,126,589,226,ILSVRC/Data/VID/train/ILSVRC2015_VID_train_0000/ILSVRC2015_train_00020002/000052.JPEG\\n', '1,7,640,480,249,62,99,58,ILSVRC/Data/VID/train/ILSVRC2015_VID_train_0000/ILSVRC2015_train_00020002/000052.JPEG\\n', '0,7,640,480,51,125,588,227,ILSVRC/Data/VID/train/ILSVRC2015_VID_train_0000/ILSVRC2015_train_00020002/000053.JPEG\\n', '1,7,640,480,252,62,99,58,ILSVRC/Data/VID/train/ILSVRC2015_VID_train_0000/ILSVRC2015_train_00020002/000053.JPEG\\n', '0,7,640,480,53,125,586,227,ILSVRC/Data/VID/train/ILSVRC2015_VID_train_0000/ILSVRC2015_train_00020002/000054.JPEG\\n', '1,7,640,480,254,62,99,57,ILSVRC/Data/VID/train/ILSVRC2015_VID_train_0000/ILSVRC2015_train_00020002/000054.JPEG\\n', '0,7,640,480,58,124,581,227,ILSVRC/Data/VID/train/ILSVRC2015_VID_train_0000/ILSVRC2015_train_00020002/000055.JPEG\\n', '1,7,640,480,256,62,100,57,ILSVRC/Data/VID/train/ILSVRC2015_VID_train_0000/ILSVRC2015_train_00020002/000055.JPEG\\n', '0,7,640,480,64,123,575,228,ILSVRC/Data/VID/train/ILSVRC2015_VID_train_0000/ILSVRC2015_train_00020002/000056.JPEG\\n', '1,7,640,480,259,61,99,58,ILSVRC/Data/VID/train/ILSVRC2015_VID_train_0000/ILSVRC2015_train_00020002/000056.JPEG\\n', '0,7,640,480,69,122,570,228,ILSVRC/Data/VID/train/ILSVRC2015_VID_train_0000/ILSVRC2015_train_00020002/000057.JPEG\\n', '1,7,640,480,261,61,100,58,ILSVRC/Data/VID/train/ILSVRC2015_VID_train_0000/ILSVRC2015_train_00020002/000057.JPEG\\n', '0,7,640,480,75,121,564,229,ILSVRC/Data/VID/train/ILSVRC2015_VID_train_0000/ILSVRC2015_train_00020002/000058.JPEG\\n', '1,7,640,480,263,61,100,57,ILSVRC/Data/VID/train/ILSVRC2015_VID_train_0000/ILSVRC2015_train_00020002/000058.JPEG\\n', '0,7,640,480,80,120,559,229,ILSVRC/Data/VID/train/ILSVRC2015_VID_train_0000/ILSVRC2015_train_00020002/000059.JPEG\\n', '1,7,640,480,266,61,100,57,ILSVRC/Data/VID/train/ILSVRC2015_VID_train_0000/ILSVRC2015_train_00020002/000059.JPEG\\n', '0,7,640,480,86,120,554,229,ILSVRC/Data/VID/train/ILSVRC2015_VID_train_0000/ILSVRC2015_train_00020002/000060.JPEG\\n', '1,7,640,480,268,61,100,57,ILSVRC/Data/VID/train/ILSVRC2015_VID_train_0000/ILSVRC2015_train_00020002/000060.JPEG\\n', '0,7,640,480,94,121,546,228,ILSVRC/Data/VID/train/ILSVRC2015_VID_train_0000/ILSVRC2015_train_00020002/000061.JPEG\\n', '1,7,640,480,270,60,101,58,ILSVRC/Data/VID/train/ILSVRC2015_VID_train_0000/ILSVRC2015_train_00020002/000061.JPEG\\n', '0,7,640,480,102,122,538,228,ILSVRC/Data/VID/train/ILSVRC2015_VID_train_0000/ILSVRC2015_train_00020002/000062.JPEG\\n', '1,7,640,480,273,60,100,57,ILSVRC/Data/VID/train/ILSVRC2015_VID_train_0000/ILSVRC2015_train_00020002/000062.JPEG\\n', '0,7,640,480,110,123,530,227,ILSVRC/Data/VID/train/ILSVRC2015_VID_train_0000/ILSVRC2015_train_00020002/000063.JPEG\\n', '1,7,640,480,275,60,101,57,ILSVRC/Data/VID/train/ILSVRC2015_VID_train_0000/ILSVRC2015_train_00020002/000063.JPEG\\n', '0,7,640,480,118,124,522,227,ILSVRC/Data/VID/train/ILSVRC2015_VID_train_0000/ILSVRC2015_train_00020002/000064.JPEG\\n', '1,7,640,480,277,60,101,57,ILSVRC/Data/VID/train/ILSVRC2015_VID_train_0000/ILSVRC2015_train_00020002/000064.JPEG\\n', '0,7,640,480,126,125,514,227,ILSVRC/Data/VID/train/ILSVRC2015_VID_train_0000/ILSVRC2015_train_00020002/000065.JPEG\\n', '1,7,640,480,280,60,101,57,ILSVRC/Data/VID/train/ILSVRC2015_VID_train_0000/ILSVRC2015_train_00020002/000065.JPEG\\n', '0,7,640,480,128,125,512,227,ILSVRC/Data/VID/train/ILSVRC2015_VID_train_0000/ILSVRC2015_train_00020002/000066.JPEG\\n', '1,7,640,480,279,60,101,57,ILSVRC/Data/VID/train/ILSVRC2015_VID_train_0000/ILSVRC2015_train_00020002/000066.JPEG\\n', '0,7,640,480,130,125,510,227,ILSVRC/Data/VID/train/ILSVRC2015_VID_train_0000/ILSVRC2015_train_00020002/000067.JPEG\\n', '1,7,640,480,278,60,101,57,ILSVRC/Data/VID/train/ILSVRC2015_VID_train_0000/ILSVRC2015_train_00020002/000067.JPEG\\n', '0,7,640,480,132,125,508,227,ILSVRC/Data/VID/train/ILSVRC2015_VID_train_0000/ILSVRC2015_train_00020002/000068.JPEG\\n', '1,7,640,480,278,60,100,57,ILSVRC/Data/VID/train/ILSVRC2015_VID_train_0000/ILSVRC2015_train_00020002/000068.JPEG\\n', '0,7,640,480,134,125,506,227,ILSVRC/Data/VID/train/ILSVRC2015_VID_train_0000/ILSVRC2015_train_00020002/000069.JPEG\\n', '1,7,640,480,277,60,101,57,ILSVRC/Data/VID/train/ILSVRC2015_VID_train_0000/ILSVRC2015_train_00020002/000069.JPEG\\n', '0,7,640,480,136,125,504,227,ILSVRC/Data/VID/train/ILSVRC2015_VID_train_0000/ILSVRC2015_train_00020002/000070.JPEG\\n', '1,7,640,480,276,60,101,57,ILSVRC/Data/VID/train/ILSVRC2015_VID_train_0000/ILSVRC2015_train_00020002/000070.JPEG\\n', '0,7,640,480,138,125,502,227,ILSVRC/Data/VID/train/ILSVRC2015_VID_train_0000/ILSVRC2015_train_00020002/000071.JPEG\\n', '1,7,640,480,276,60,100,57,ILSVRC/Data/VID/train/ILSVRC2015_VID_train_0000/ILSVRC2015_train_00020002/000071.JPEG\\n', '0,7,640,480,140,125,500,227,ILSVRC/Data/VID/train/ILSVRC2015_VID_train_0000/ILSVRC2015_train_00020002/000072.JPEG\\n', '1,7,640,480,275,60,100,57,ILSVRC/Data/VID/train/ILSVRC2015_VID_train_0000/ILSVRC2015_train_00020002/000072.JPEG\\n', '0,7,640,480,142,125,498,227,ILSVRC/Data/VID/train/ILSVRC2015_VID_train_0000/ILSVRC2015_train_00020002/000073.JPEG\\n', '1,7,640,480,274,60,101,57,ILSVRC/Data/VID/train/ILSVRC2015_VID_train_0000/ILSVRC2015_train_00020002/000073.JPEG\\n', '0,7,640,480,142,124,498,227,ILSVRC/Data/VID/train/ILSVRC2015_VID_train_0000/ILSVRC2015_train_00020002/000074.JPEG\\n', '1,7,640,480,274,60,100,57,ILSVRC/Data/VID/train/ILSVRC2015_VID_train_0000/ILSVRC2015_train_00020002/000074.JPEG\\n', '0,7,640,480,142,123,498,227,ILSVRC/Data/VID/train/ILSVRC2015_VID_train_0000/ILSVRC2015_train_00020002/000075.JPEG\\n', '1,7,640,480,273,60,100,57,ILSVRC/Data/VID/train/ILSVRC2015_VID_train_0000/ILSVRC2015_train_00020002/000075.JPEG\\n', '0,7,640,480,142,123,498,227,ILSVRC/Data/VID/train/ILSVRC2015_VID_train_0000/ILSVRC2015_train_00020002/000076.JPEG\\n', '1,7,640,480,273,60,99,57,ILSVRC/Data/VID/train/ILSVRC2015_VID_train_0000/ILSVRC2015_train_00020002/000076.JPEG\\n', '0,7,640,480,142,122,498,227,ILSVRC/Data/VID/train/ILSVRC2015_VID_train_0000/ILSVRC2015_train_00020002/000077.JPEG\\n', '1,7,640,480,272,60,100,57,ILSVRC/Data/VID/train/ILSVRC2015_VID_train_0000/ILSVRC2015_train_00020002/000077.JPEG\\n', '0,7,640,480,142,121,498,227,ILSVRC/Data/VID/train/ILSVRC2015_VID_train_0000/ILSVRC2015_train_00020002/000078.JPEG\\n', '1,7,640,480,271,60,100,57,ILSVRC/Data/VID/train/ILSVRC2015_VID_train_0000/ILSVRC2015_train_00020002/000078.JPEG\\n', '0,7,640,480,142,121,498,227,ILSVRC/Data/VID/train/ILSVRC2015_VID_train_0000/ILSVRC2015_train_00020002/000079.JPEG\\n', '1,7,640,480,271,60,99,57,ILSVRC/Data/VID/train/ILSVRC2015_VID_train_0000/ILSVRC2015_train_00020002/000079.JPEG\\n', '0,7,640,480,142,120,498,227,ILSVRC/Data/VID/train/ILSVRC2015_VID_train_0000/ILSVRC2015_train_00020002/000080.JPEG\\n', '1,7,640,480,270,60,99,57,ILSVRC/Data/VID/train/ILSVRC2015_VID_train_0000/ILSVRC2015_train_00020002/000080.JPEG\\n', '0,7,640,480,142,119,498,227,ILSVRC/Data/VID/train/ILSVRC2015_VID_train_0000/ILSVRC2015_train_00020002/000081.JPEG\\n', '1,7,640,480,269,60,100,57,ILSVRC/Data/VID/train/ILSVRC2015_VID_train_0000/ILSVRC2015_train_00020002/000081.JPEG\\n', '0,7,640,480,142,119,498,227,ILSVRC/Data/VID/train/ILSVRC2015_VID_train_0000/ILSVRC2015_train_00020002/000082.JPEG\\n', '1,7,640,480,269,60,99,57,ILSVRC/Data/VID/train/ILSVRC2015_VID_train_0000/ILSVRC2015_train_00020002/000082.JPEG\\n', '0,7,640,480,142,118,498,227,ILSVRC/Data/VID/train/ILSVRC2015_VID_train_0000/ILSVRC2015_train_00020002/000083.JPEG\\n', '1,7,640,480,268,60,99,57,ILSVRC/Data/VID/train/ILSVRC2015_VID_train_0000/ILSVRC2015_train_00020002/000083.JPEG\\n', '0,7,640,480,143,118,497,227,ILSVRC/Data/VID/train/ILSVRC2015_VID_train_0000/ILSVRC2015_train_00020002/000084.JPEG\\n', '1,7,640,480,268,61,99,57,ILSVRC/Data/VID/train/ILSVRC2015_VID_train_0000/ILSVRC2015_train_00020002/000084.JPEG\\n', '0,7,640,480,143,118,497,228,ILSVRC/Data/VID/train/ILSVRC2015_VID_train_0000/ILSVRC2015_train_00020002/000085.JPEG\\n', '1,7,640,480,267,62,99,57,ILSVRC/Data/VID/train/ILSVRC2015_VID_train_0000/ILSVRC2015_train_00020002/000085.JPEG\\n', '0,7,640,480,143,118,497,229,ILSVRC/Data/VID/train/ILSVRC2015_VID_train_0000/ILSVRC2015_train_00020002/000086.JPEG\\n', '1,7,640,480,266,63,99,57,ILSVRC/Data/VID/train/ILSVRC2015_VID_train_0000/ILSVRC2015_train_00020002/000086.JPEG\\n', '0,7,640,480,143,118,497,230,ILSVRC/Data/VID/train/ILSVRC2015_VID_train_0000/ILSVRC2015_train_00020002/000087.JPEG\\n', '1,7,640,480,265,65,99,57,ILSVRC/Data/VID/train/ILSVRC2015_VID_train_0000/ILSVRC2015_train_00020002/000087.JPEG\\n', '0,7,640,480,143,119,497,230,ILSVRC/Data/VID/train/ILSVRC2015_VID_train_0000/ILSVRC2015_train_00020002/000088.JPEG\\n', '1,7,640,480,265,66,98,57,ILSVRC/Data/VID/train/ILSVRC2015_VID_train_0000/ILSVRC2015_train_00020002/000088.JPEG\\n', '0,7,640,480,143,119,497,231,ILSVRC/Data/VID/train/ILSVRC2015_VID_train_0000/ILSVRC2015_train_00020002/000089.JPEG\\n', '1,7,640,480,264,68,98,57,ILSVRC/Data/VID/train/ILSVRC2015_VID_train_0000/ILSVRC2015_train_00020002/000089.JPEG\\n', '0,7,640,480,143,119,497,232,ILSVRC/Data/VID/train/ILSVRC2015_VID_train_0000/ILSVRC2015_train_00020002/000090.JPEG\\n', '1,7,640,480,263,69,98,57,ILSVRC/Data/VID/train/ILSVRC2015_VID_train_0000/ILSVRC2015_train_00020002/000090.JPEG\\n', '0,7,640,480,144,120,496,233,ILSVRC/Data/VID/train/ILSVRC2015_VID_train_0000/ILSVRC2015_train_00020002/000091.JPEG\\n', '1,7,640,480,263,71,98,57,ILSVRC/Data/VID/train/ILSVRC2015_VID_train_0000/ILSVRC2015_train_00020002/000091.JPEG\\n', '0,7,640,480,144,120,496,232,ILSVRC/Data/VID/train/ILSVRC2015_VID_train_0000/ILSVRC2015_train_00020002/000092.JPEG\\n', '1,7,640,480,263,71,98,57,ILSVRC/Data/VID/train/ILSVRC2015_VID_train_0000/ILSVRC2015_train_00020002/000092.JPEG\\n', '0,7,640,480,145,120,495,232,ILSVRC/Data/VID/train/ILSVRC2015_VID_train_0000/ILSVRC2015_train_00020002/000093.JPEG\\n', '1,7,640,480,263,71,98,57,ILSVRC/Data/VID/train/ILSVRC2015_VID_train_0000/ILSVRC2015_train_00020002/000093.JPEG\\n', '0,7,640,480,146,120,494,232,ILSVRC/Data/VID/train/ILSVRC2015_VID_train_0000/ILSVRC2015_train_00020002/000094.JPEG\\n', '1,7,640,480,263,71,98,57,ILSVRC/Data/VID/train/ILSVRC2015_VID_train_0000/ILSVRC2015_train_00020002/000094.JPEG\\n', '0,7,640,480,146,120,494,232,ILSVRC/Data/VID/train/ILSVRC2015_VID_train_0000/ILSVRC2015_train_00020002/000095.JPEG\\n', '1,7,640,480,263,71,98,57,ILSVRC/Data/VID/train/ILSVRC2015_VID_train_0000/ILSVRC2015_train_00020002/000095.JPEG\\n', '0,7,640,480,147,120,493,232,ILSVRC/Data/VID/train/ILSVRC2015_VID_train_0000/ILSVRC2015_train_00020002/000096.JPEG\\n', '1,7,640,480,263,71,98,57,ILSVRC/Data/VID/train/ILSVRC2015_VID_train_0000/ILSVRC2015_train_00020002/000096.JPEG\\n', '0,7,640,480,148,120,492,231,ILSVRC/Data/VID/train/ILSVRC2015_VID_train_0000/ILSVRC2015_train_00020002/000097.JPEG\\n', '1,7,640,480,263,71,98,57,ILSVRC/Data/VID/train/ILSVRC2015_VID_train_0000/ILSVRC2015_train_00020002/000097.JPEG\\n', '0,7,640,480,149,120,491,231,ILSVRC/Data/VID/train/ILSVRC2015_VID_train_0000/ILSVRC2015_train_00020002/000098.JPEG\\n', '1,7,640,480,263,71,98,57,ILSVRC/Data/VID/train/ILSVRC2015_VID_train_0000/ILSVRC2015_train_00020002/000098.JPEG\\n', '0,7,640,480,149,120,491,231,ILSVRC/Data/VID/train/ILSVRC2015_VID_train_0000/ILSVRC2015_train_00020002/000099.JPEG\\n', '1,7,640,480,263,71,98,57,ILSVRC/Data/VID/train/ILSVRC2015_VID_train_0000/ILSVRC2015_train_00020002/000099.JPEG\\n', '0,7,640,480,150,120,490,231,ILSVRC/Data/VID/train/ILSVRC2015_VID_train_0000/ILSVRC2015_train_00020002/000100.JPEG\\n', '1,7,640,480,263,71,98,57,ILSVRC/Data/VID/train/ILSVRC2015_VID_train_0000/ILSVRC2015_train_00020002/000100.JPEG\\n', '0,7,640,480,151,120,489,231,ILSVRC/Data/VID/train/ILSVRC2015_VID_train_0000/ILSVRC2015_train_00020002/000101.JPEG\\n', '1,7,640,480,263,71,98,57,ILSVRC/Data/VID/train/ILSVRC2015_VID_train_0000/ILSVRC2015_train_00020002/000101.JPEG\\n', '0,7,640,480,152,120,488,231,ILSVRC/Data/VID/train/ILSVRC2015_VID_train_0000/ILSVRC2015_train_00020002/000102.JPEG\\n', '1,7,640,480,264,71,97,57,ILSVRC/Data/VID/train/ILSVRC2015_VID_train_0000/ILSVRC2015_train_00020002/000102.JPEG\\n', '0,7,640,480,152,119,487,231,ILSVRC/Data/VID/train/ILSVRC2015_VID_train_0000/ILSVRC2015_train_00020002/000103.JPEG\\n', '1,7,640,480,263,70,97,57,ILSVRC/Data/VID/train/ILSVRC2015_VID_train_0000/ILSVRC2015_train_00020002/000103.JPEG\\n', '0,7,640,480,152,119,487,231,ILSVRC/Data/VID/train/ILSVRC2015_VID_train_0000/ILSVRC2015_train_00020002/000104.JPEG\\n', '1,7,640,480,263,70,97,57,ILSVRC/Data/VID/train/ILSVRC2015_VID_train_0000/ILSVRC2015_train_00020002/000104.JPEG\\n', '0,7,640,480,152,119,487,231,ILSVRC/Data/VID/train/ILSVRC2015_VID_train_0000/ILSVRC2015_train_00020002/000105.JPEG\\n', '1,7,640,480,263,70,97,57,ILSVRC/Data/VID/train/ILSVRC2015_VID_train_0000/ILSVRC2015_train_00020002/000105.JPEG\\n', '0,7,640,480,152,118,487,232,ILSVRC/Data/VID/train/ILSVRC2015_VID_train_0000/ILSVRC2015_train_00020002/000106.JPEG\\n', '1,7,640,480,263,70,97,57,ILSVRC/Data/VID/train/ILSVRC2015_VID_train_0000/ILSVRC2015_train_00020002/000106.JPEG\\n', '0,7,640,480,152,118,487,232,ILSVRC/Data/VID/train/ILSVRC2015_VID_train_0000/ILSVRC2015_train_00020002/000107.JPEG\\n', '1,7,640,480,263,70,97,57,ILSVRC/Data/VID/train/ILSVRC2015_VID_train_0000/ILSVRC2015_train_00020002/000107.JPEG\\n', '0,7,640,480,152,118,487,232,ILSVRC/Data/VID/train/ILSVRC2015_VID_train_0000/ILSVRC2015_train_00020002/000108.JPEG\\n', '1,7,640,480,262,69,97,57,ILSVRC/Data/VID/train/ILSVRC2015_VID_train_0000/ILSVRC2015_train_00020002/000108.JPEG\\n', '0,7,640,480,152,118,487,232,ILSVRC/Data/VID/train/ILSVRC2015_VID_train_0000/ILSVRC2015_train_00020002/000109.JPEG\\n', '1,7,640,480,262,69,97,57,ILSVRC/Data/VID/train/ILSVRC2015_VID_train_0000/ILSVRC2015_train_00020002/000109.JPEG\\n', '0,7,640,480,152,117,487,233,ILSVRC/Data/VID/train/ILSVRC2015_VID_train_0000/ILSVRC2015_train_00020002/000110.JPEG\\n', '1,7,640,480,262,69,97,57,ILSVRC/Data/VID/train/ILSVRC2015_VID_train_0000/ILSVRC2015_train_00020002/000110.JPEG\\n', '0,7,640,480,152,117,487,233,ILSVRC/Data/VID/train/ILSVRC2015_VID_train_0000/ILSVRC2015_train_00020002/000111.JPEG\\n', '1,7,640,480,262,69,97,57,ILSVRC/Data/VID/train/ILSVRC2015_VID_train_0000/ILSVRC2015_train_00020002/000111.JPEG\\n', '0,7,640,480,152,117,487,233,ILSVRC/Data/VID/train/ILSVRC2015_VID_train_0000/ILSVRC2015_train_00020002/000112.JPEG\\n', '1,7,640,480,262,69,97,57,ILSVRC/Data/VID/train/ILSVRC2015_VID_train_0000/ILSVRC2015_train_00020002/000112.JPEG\\n', '0,7,640,480,152,117,487,233,ILSVRC/Data/VID/train/ILSVRC2015_VID_train_0000/ILSVRC2015_train_00020002/000113.JPEG\\n', '1,7,640,480,261,69,97,57,ILSVRC/Data/VID/train/ILSVRC2015_VID_train_0000/ILSVRC2015_train_00020002/000113.JPEG\\n', '0,7,640,480,151,116,488,234,ILSVRC/Data/VID/train/ILSVRC2015_VID_train_0000/ILSVRC2015_train_00020002/000114.JPEG\\n', '1,7,640,480,261,68,97,57,ILSVRC/Data/VID/train/ILSVRC2015_VID_train_0000/ILSVRC2015_train_00020002/000114.JPEG\\n', '0,7,640,480,151,116,488,234,ILSVRC/Data/VID/train/ILSVRC2015_VID_train_0000/ILSVRC2015_train_00020002/000115.JPEG\\n', '1,7,640,480,261,68,97,57,ILSVRC/Data/VID/train/ILSVRC2015_VID_train_0000/ILSVRC2015_train_00020002/000115.JPEG\\n', '0,7,640,480,150,116,489,234,ILSVRC/Data/VID/train/ILSVRC2015_VID_train_0000/ILSVRC2015_train_00020002/000116.JPEG\\n', '1,7,640,480,261,68,97,57,ILSVRC/Data/VID/train/ILSVRC2015_VID_train_0000/ILSVRC2015_train_00020002/000116.JPEG\\n', '0,7,640,480,150,115,489,235,ILSVRC/Data/VID/train/ILSVRC2015_VID_train_0000/ILSVRC2015_train_00020002/000117.JPEG\\n', '1,7,640,480,261,68,97,57,ILSVRC/Data/VID/train/ILSVRC2015_VID_train_0000/ILSVRC2015_train_00020002/000117.JPEG\\n', '0,7,640,480,150,115,489,235,ILSVRC/Data/VID/train/ILSVRC2015_VID_train_0000/ILSVRC2015_train_00020002/000118.JPEG\\n', '1,7,640,480,260,68,97,57,ILSVRC/Data/VID/train/ILSVRC2015_VID_train_0000/ILSVRC2015_train_00020002/000118.JPEG\\n', '0,7,640,480,149,115,490,235,ILSVRC/Data/VID/train/ILSVRC2015_VID_train_0000/ILSVRC2015_train_00020002/000119.JPEG\\n', '1,7,640,480,260,68,97,57,ILSVRC/Data/VID/train/ILSVRC2015_VID_train_0000/ILSVRC2015_train_00020002/000119.JPEG\\n', '0,7,640,480,149,115,490,235,ILSVRC/Data/VID/train/ILSVRC2015_VID_train_0000/ILSVRC2015_train_00020002/000120.JPEG\\n', '1,7,640,480,260,67,97,57,ILSVRC/Data/VID/train/ILSVRC2015_VID_train_0000/ILSVRC2015_train_00020002/000120.JPEG\\n', '0,7,640,480,149,114,490,236,ILSVRC/Data/VID/train/ILSVRC2015_VID_train_0000/ILSVRC2015_train_00020002/000121.JPEG\\n', '1,7,640,480,260,67,97,57,ILSVRC/Data/VID/train/ILSVRC2015_VID_train_0000/ILSVRC2015_train_00020002/000121.JPEG\\n', '0,7,640,480,148,114,491,236,ILSVRC/Data/VID/train/ILSVRC2015_VID_train_0000/ILSVRC2015_train_00020002/000122.JPEG\\n', '1,7,640,480,260,67,97,57,ILSVRC/Data/VID/train/ILSVRC2015_VID_train_0000/ILSVRC2015_train_00020002/000122.JPEG\\n', '0,7,640,480,148,114,491,236,ILSVRC/Data/VID/train/ILSVRC2015_VID_train_0000/ILSVRC2015_train_00020002/000123.JPEG\\n', '1,7,640,480,259,67,97,57,ILSVRC/Data/VID/train/ILSVRC2015_VID_train_0000/ILSVRC2015_train_00020002/000123.JPEG\\n', '0,7,640,480,147,114,492,236,ILSVRC/Data/VID/train/ILSVRC2015_VID_train_0000/ILSVRC2015_train_00020002/000124.JPEG\\n', '1,7,640,480,259,67,97,57,ILSVRC/Data/VID/train/ILSVRC2015_VID_train_0000/ILSVRC2015_train_00020002/000124.JPEG\\n', '0,7,640,480,147,113,492,237,ILSVRC/Data/VID/train/ILSVRC2015_VID_train_0000/ILSVRC2015_train_00020002/000125.JPEG\\n', '1,7,640,480,259,67,97,57,ILSVRC/Data/VID/train/ILSVRC2015_VID_train_0000/ILSVRC2015_train_00020002/000125.JPEG\\n', '0,7,640,480,147,113,492,237,ILSVRC/Data/VID/train/ILSVRC2015_VID_train_0000/ILSVRC2015_train_00020002/000126.JPEG\\n', '1,7,640,480,259,66,97,57,ILSVRC/Data/VID/train/ILSVRC2015_VID_train_0000/ILSVRC2015_train_00020002/000126.JPEG\\n', '0,7,640,480,146,113,493,237,ILSVRC/Data/VID/train/ILSVRC2015_VID_train_0000/ILSVRC2015_train_00020002/000127.JPEG\\n', '1,7,640,480,259,66,97,57,ILSVRC/Data/VID/train/ILSVRC2015_VID_train_0000/ILSVRC2015_train_00020002/000127.JPEG\\n', '0,7,640,480,146,113,493,237,ILSVRC/Data/VID/train/ILSVRC2015_VID_train_0000/ILSVRC2015_train_00020002/000128.JPEG\\n', '1,7,640,480,258,66,97,57,ILSVRC/Data/VID/train/ILSVRC2015_VID_train_0000/ILSVRC2015_train_00020002/000128.JPEG\\n', '0,7,640,480,146,112,493,238,ILSVRC/Data/VID/train/ILSVRC2015_VID_train_0000/ILSVRC2015_train_00020002/000129.JPEG\\n', '1,7,640,480,258,66,97,57,ILSVRC/Data/VID/train/ILSVRC2015_VID_train_0000/ILSVRC2015_train_00020002/000129.JPEG\\n', '0,7,640,480,145,112,494,238,ILSVRC/Data/VID/train/ILSVRC2015_VID_train_0000/ILSVRC2015_train_00020002/000130.JPEG\\n', '1,7,640,480,258,66,97,57,ILSVRC/Data/VID/train/ILSVRC2015_VID_train_0000/ILSVRC2015_train_00020002/000130.JPEG\\n', '0,7,640,480,145,112,494,238,ILSVRC/Data/VID/train/ILSVRC2015_VID_train_0000/ILSVRC2015_train_00020002/000131.JPEG\\n', '1,7,640,480,258,66,97,57,ILSVRC/Data/VID/train/ILSVRC2015_VID_train_0000/ILSVRC2015_train_00020002/000131.JPEG\\n', '0,7,640,480,145,111,494,239,ILSVRC/Data/VID/train/ILSVRC2015_VID_train_0000/ILSVRC2015_train_00020002/000132.JPEG\\n', '1,7,640,480,258,65,97,57,ILSVRC/Data/VID/train/ILSVRC2015_VID_train_0000/ILSVRC2015_train_00020002/000132.JPEG\\n', '0,7,640,480,144,111,495,239,ILSVRC/Data/VID/train/ILSVRC2015_VID_train_0000/ILSVRC2015_train_00020002/000133.JPEG\\n', '1,7,640,480,257,65,97,57,ILSVRC/Data/VID/train/ILSVRC2015_VID_train_0000/ILSVRC2015_train_00020002/000133.JPEG\\n', '0,7,640,480,144,111,495,239,ILSVRC/Data/VID/train/ILSVRC2015_VID_train_0000/ILSVRC2015_train_00020002/000134.JPEG\\n', '1,7,640,480,257,65,97,57,ILSVRC/Data/VID/train/ILSVRC2015_VID_train_0000/ILSVRC2015_train_00020002/000134.JPEG\\n', '0,7,640,480,143,111,496,239,ILSVRC/Data/VID/train/ILSVRC2015_VID_train_0000/ILSVRC2015_train_00020002/000135.JPEG\\n', '1,7,640,480,257,65,97,57,ILSVRC/Data/VID/train/ILSVRC2015_VID_train_0000/ILSVRC2015_train_00020002/000135.JPEG\\n', '0,7,640,480,143,110,496,240,ILSVRC/Data/VID/train/ILSVRC2015_VID_train_0000/ILSVRC2015_train_00020002/000136.JPEG\\n', '1,7,640,480,257,65,97,57,ILSVRC/Data/VID/train/ILSVRC2015_VID_train_0000/ILSVRC2015_train_00020002/000136.JPEG\\n', '0,7,640,480,143,110,496,240,ILSVRC/Data/VID/train/ILSVRC2015_VID_train_0000/ILSVRC2015_train_00020002/000137.JPEG\\n', '1,7,640,480,257,65,97,57,ILSVRC/Data/VID/train/ILSVRC2015_VID_train_0000/ILSVRC2015_train_00020002/000137.JPEG\\n', '0,7,640,480,142,110,497,240,ILSVRC/Data/VID/train/ILSVRC2015_VID_train_0000/ILSVRC2015_train_00020002/000138.JPEG\\n', '1,7,640,480,256,64,97,57,ILSVRC/Data/VID/train/ILSVRC2015_VID_train_0000/ILSVRC2015_train_00020002/000138.JPEG\\n', '0,7,640,480,142,110,497,240,ILSVRC/Data/VID/train/ILSVRC2015_VID_train_0000/ILSVRC2015_train_00020002/000139.JPEG\\n', '1,7,640,480,256,64,97,57,ILSVRC/Data/VID/train/ILSVRC2015_VID_train_0000/ILSVRC2015_train_00020002/000139.JPEG\\n', '0,7,640,480,142,109,497,241,ILSVRC/Data/VID/train/ILSVRC2015_VID_train_0000/ILSVRC2015_train_00020002/000140.JPEG\\n', '1,7,640,480,256,64,97,57,ILSVRC/Data/VID/train/ILSVRC2015_VID_train_0000/ILSVRC2015_train_00020002/000140.JPEG\\n', '0,7,640,480,141,109,498,241,ILSVRC/Data/VID/train/ILSVRC2015_VID_train_0000/ILSVRC2015_train_00020002/000141.JPEG\\n', '1,7,640,480,256,64,97,57,ILSVRC/Data/VID/train/ILSVRC2015_VID_train_0000/ILSVRC2015_train_00020002/000141.JPEG\\n', '0,7,640,480,141,109,498,241,ILSVRC/Data/VID/train/ILSVRC2015_VID_train_0000/ILSVRC2015_train_00020002/000142.JPEG\\n', '1,7,640,480,256,64,97,57,ILSVRC/Data/VID/train/ILSVRC2015_VID_train_0000/ILSVRC2015_train_00020002/000142.JPEG\\n', '0,7,640,480,141,109,499,241,ILSVRC/Data/VID/train/ILSVRC2015_VID_train_0000/ILSVRC2015_train_00020002/000143.JPEG\\n', '1,7,640,480,256,64,97,57,ILSVRC/Data/VID/train/ILSVRC2015_VID_train_0000/ILSVRC2015_train_00020002/000143.JPEG\\n', '0,7,640,480,141,108,499,241,ILSVRC/Data/VID/train/ILSVRC2015_VID_train_0000/ILSVRC2015_train_00020002/000144.JPEG\\n', '1,7,640,480,256,63,97,57,ILSVRC/Data/VID/train/ILSVRC2015_VID_train_0000/ILSVRC2015_train_00020002/000144.JPEG\\n', '0,7,640,480,141,108,499,241,ILSVRC/Data/VID/train/ILSVRC2015_VID_train_0000/ILSVRC2015_train_00020002/000145.JPEG\\n', '1,7,640,480,256,63,97,57,ILSVRC/Data/VID/train/ILSVRC2015_VID_train_0000/ILSVRC2015_train_00020002/000145.JPEG\\n', '0,7,640,480,141,107,499,241,ILSVRC/Data/VID/train/ILSVRC2015_VID_train_0000/ILSVRC2015_train_00020002/000146.JPEG\\n', '1,7,640,480,256,63,98,57,ILSVRC/Data/VID/train/ILSVRC2015_VID_train_0000/ILSVRC2015_train_00020002/000146.JPEG\\n', '0,7,640,480,141,107,499,241,ILSVRC/Data/VID/train/ILSVRC2015_VID_train_0000/ILSVRC2015_train_00020002/000147.JPEG\\n', '1,7,640,480,257,63,97,56,ILSVRC/Data/VID/train/ILSVRC2015_VID_train_0000/ILSVRC2015_train_00020002/000147.JPEG\\n', '0,7,640,480,141,107,499,241,ILSVRC/Data/VID/train/ILSVRC2015_VID_train_0000/ILSVRC2015_train_00020002/000148.JPEG\\n', '1,7,640,480,257,63,97,56,ILSVRC/Data/VID/train/ILSVRC2015_VID_train_0000/ILSVRC2015_train_00020002/000148.JPEG\\n', '0,7,640,480,141,106,499,241,ILSVRC/Data/VID/train/ILSVRC2015_VID_train_0000/ILSVRC2015_train_00020002/000149.JPEG\\n', '1,7,640,480,257,62,98,57,ILSVRC/Data/VID/train/ILSVRC2015_VID_train_0000/ILSVRC2015_train_00020002/000149.JPEG\\n', '0,7,640,480,141,106,499,241,ILSVRC/Data/VID/train/ILSVRC2015_VID_train_0000/ILSVRC2015_train_00020002/000150.JPEG\\n', '1,7,640,480,257,62,98,56,ILSVRC/Data/VID/train/ILSVRC2015_VID_train_0000/ILSVRC2015_train_00020002/000150.JPEG\\n', '0,7,640,480,141,105,499,241,ILSVRC/Data/VID/train/ILSVRC2015_VID_train_0000/ILSVRC2015_train_00020002/000151.JPEG\\n', '1,7,640,480,258,62,97,56,ILSVRC/Data/VID/train/ILSVRC2015_VID_train_0000/ILSVRC2015_train_00020002/000151.JPEG\\n', '0,7,640,480,141,105,499,241,ILSVRC/Data/VID/train/ILSVRC2015_VID_train_0000/ILSVRC2015_train_00020002/000152.JPEG\\n', '1,7,640,480,258,62,98,56,ILSVRC/Data/VID/train/ILSVRC2015_VID_train_0000/ILSVRC2015_train_00020002/000152.JPEG\\n', '0,7,640,480,142,105,498,241,ILSVRC/Data/VID/train/ILSVRC2015_VID_train_0000/ILSVRC2015_train_00020002/000153.JPEG\\n', '1,7,640,480,258,62,98,55,ILSVRC/Data/VID/train/ILSVRC2015_VID_train_0000/ILSVRC2015_train_00020002/000153.JPEG\\n', '0,7,640,480,142,104,498,241,ILSVRC/Data/VID/train/ILSVRC2015_VID_train_0000/ILSVRC2015_train_00020002/000154.JPEG\\n', '1,7,640,480,258,62,98,55,ILSVRC/Data/VID/train/ILSVRC2015_VID_train_0000/ILSVRC2015_train_00020002/000154.JPEG\\n', '0,7,640,480,142,104,498,241,ILSVRC/Data/VID/train/ILSVRC2015_VID_train_0000/ILSVRC2015_train_00020002/000155.JPEG\\n', '1,7,640,480,259,61,98,56,ILSVRC/Data/VID/train/ILSVRC2015_VID_train_0000/ILSVRC2015_train_00020002/000155.JPEG\\n', '0,7,640,480,142,103,498,241,ILSVRC/Data/VID/train/ILSVRC2015_VID_train_0000/ILSVRC2015_train_00020002/000156.JPEG\\n', '1,7,640,480,259,61,98,56,ILSVRC/Data/VID/train/ILSVRC2015_VID_train_0000/ILSVRC2015_train_00020002/000156.JPEG\\n', '0,7,640,480,142,103,498,241,ILSVRC/Data/VID/train/ILSVRC2015_VID_train_0000/ILSVRC2015_train_00020002/000157.JPEG\\n', '1,7,640,480,259,61,98,55,ILSVRC/Data/VID/train/ILSVRC2015_VID_train_0000/ILSVRC2015_train_00020002/000157.JPEG\\n', '0,7,640,480,142,103,498,241,ILSVRC/Data/VID/train/ILSVRC2015_VID_train_0000/ILSVRC2015_train_00020002/000158.JPEG\\n', '1,7,640,480,259,61,99,55,ILSVRC/Data/VID/train/ILSVRC2015_VID_train_0000/ILSVRC2015_train_00020002/000158.JPEG\\n', '0,7,640,480,142,102,498,241,ILSVRC/Data/VID/train/ILSVRC2015_VID_train_0000/ILSVRC2015_train_00020002/000159.JPEG\\n', '1,7,640,480,260,61,98,55,ILSVRC/Data/VID/train/ILSVRC2015_VID_train_0000/ILSVRC2015_train_00020002/000159.JPEG\\n', '0,7,640,480,142,102,498,241,ILSVRC/Data/VID/train/ILSVRC2015_VID_train_0000/ILSVRC2015_train_00020002/000160.JPEG\\n', '1,7,640,480,260,61,98,54,ILSVRC/Data/VID/train/ILSVRC2015_VID_train_0000/ILSVRC2015_train_00020002/000160.JPEG\\n', '0,7,640,480,142,101,498,241,ILSVRC/Data/VID/train/ILSVRC2015_VID_train_0000/ILSVRC2015_train_00020002/000161.JPEG\\n', '1,7,640,480,260,60,99,55,ILSVRC/Data/VID/train/ILSVRC2015_VID_train_0000/ILSVRC2015_train_00020002/000161.JPEG\\n', '0,7,640,480,142,101,498,241,ILSVRC/Data/VID/train/ILSVRC2015_VID_train_0000/ILSVRC2015_train_00020002/000162.JPEG\\n', '1,7,640,480,260,60,99,55,ILSVRC/Data/VID/train/ILSVRC2015_VID_train_0000/ILSVRC2015_train_00020002/000162.JPEG\\n', '0,7,640,480,143,101,497,241,ILSVRC/Data/VID/train/ILSVRC2015_VID_train_0000/ILSVRC2015_train_00020002/000163.JPEG\\n', '1,7,640,480,261,60,98,54,ILSVRC/Data/VID/train/ILSVRC2015_VID_train_0000/ILSVRC2015_train_00020002/000163.JPEG\\n', '0,7,640,480,143,100,497,241,ILSVRC/Data/VID/train/ILSVRC2015_VID_train_0000/ILSVRC2015_train_00020002/000164.JPEG\\n', '1,7,640,480,261,60,99,54,ILSVRC/Data/VID/train/ILSVRC2015_VID_train_0000/ILSVRC2015_train_00020002/000164.JPEG\\n', '0,7,640,480,143,100,497,241,ILSVRC/Data/VID/train/ILSVRC2015_VID_train_0000/ILSVRC2015_train_00020002/000165.JPEG\\n', '1,7,640,480,261,60,99,54,ILSVRC/Data/VID/train/ILSVRC2015_VID_train_0000/ILSVRC2015_train_00020002/000165.JPEG\\n', '0,7,640,480,143,99,497,241,ILSVRC/Data/VID/train/ILSVRC2015_VID_train_0000/ILSVRC2015_train_00020002/000166.JPEG\\n', '1,7,640,480,262,60,99,54,ILSVRC/Data/VID/train/ILSVRC2015_VID_train_0000/ILSVRC2015_train_00020002/000166.JPEG\\n', '0,7,640,480,143,99,497,241,ILSVRC/Data/VID/train/ILSVRC2015_VID_train_0000/ILSVRC2015_train_00020002/000167.JPEG\\n', '1,7,640,480,261,59,99,54,ILSVRC/Data/VID/train/ILSVRC2015_VID_train_0000/ILSVRC2015_train_00020002/000167.JPEG\\n', '0,7,640,480,143,99,497,241,ILSVRC/Data/VID/train/ILSVRC2015_VID_train_0000/ILSVRC2015_train_00020002/000168.JPEG\\n', '1,7,640,480,260,59,100,54,ILSVRC/Data/VID/train/ILSVRC2015_VID_train_0000/ILSVRC2015_train_00020002/000168.JPEG\\n', '0,7,640,480,143,98,497,241,ILSVRC/Data/VID/train/ILSVRC2015_VID_train_0000/ILSVRC2015_train_00020002/000169.JPEG\\n', '1,7,640,480,259,58,101,55,ILSVRC/Data/VID/train/ILSVRC2015_VID_train_0000/ILSVRC2015_train_00020002/000169.JPEG\\n', '0,7,640,480,143,98,497,241,ILSVRC/Data/VID/train/ILSVRC2015_VID_train_0000/ILSVRC2015_train_00020002/000170.JPEG\\n', '1,7,640,480,259,58,101,55,ILSVRC/Data/VID/train/ILSVRC2015_VID_train_0000/ILSVRC2015_train_00020002/000170.JPEG\\n', '0,7,640,480,143,97,497,241,ILSVRC/Data/VID/train/ILSVRC2015_VID_train_0000/ILSVRC2015_train_00020002/000171.JPEG\\n', '1,7,640,480,258,57,102,56,ILSVRC/Data/VID/train/ILSVRC2015_VID_train_0000/ILSVRC2015_train_00020002/000171.JPEG\\n', '0,7,640,480,143,97,497,241,ILSVRC/Data/VID/train/ILSVRC2015_VID_train_0000/ILSVRC2015_train_00020002/000172.JPEG\\n', '1,7,640,480,257,57,103,56,ILSVRC/Data/VID/train/ILSVRC2015_VID_train_0000/ILSVRC2015_train_00020002/000172.JPEG\\n', '0,7,640,480,144,97,496,241,ILSVRC/Data/VID/train/ILSVRC2015_VID_train_0000/ILSVRC2015_train_00020002/000173.JPEG\\n', '1,7,640,480,257,57,103,56,ILSVRC/Data/VID/train/ILSVRC2015_VID_train_0000/ILSVRC2015_train_00020002/000173.JPEG\\n', '0,7,640,480,143,99,497,241,ILSVRC/Data/VID/train/ILSVRC2015_VID_train_0000/ILSVRC2015_train_00020002/000174.JPEG\\n', '1,7,640,480,256,58,102,56,ILSVRC/Data/VID/train/ILSVRC2015_VID_train_0000/ILSVRC2015_train_00020002/000174.JPEG\\n', '0,7,640,480,143,101,497,241,ILSVRC/Data/VID/train/ILSVRC2015_VID_train_0000/ILSVRC2015_train_00020002/000175.JPEG\\n', '1,7,640,480,255,59,102,56,ILSVRC/Data/VID/train/ILSVRC2015_VID_train_0000/ILSVRC2015_train_00020002/000175.JPEG\\n', '0,7,640,480,143,103,497,241,ILSVRC/Data/VID/train/ILSVRC2015_VID_train_0000/ILSVRC2015_train_00020002/000176.JPEG\\n', '1,7,640,480,254,60,101,56,ILSVRC/Data/VID/train/ILSVRC2015_VID_train_0000/ILSVRC2015_train_00020002/000176.JPEG\\n', '0,7,640,480,143,105,497,241,ILSVRC/Data/VID/train/ILSVRC2015_VID_train_0000/ILSVRC2015_train_00020002/000177.JPEG\\n', '1,7,640,480,253,61,101,56,ILSVRC/Data/VID/train/ILSVRC2015_VID_train_0000/ILSVRC2015_train_00020002/000177.JPEG\\n', '0,7,640,480,143,108,497,241,ILSVRC/Data/VID/train/ILSVRC2015_VID_train_0000/ILSVRC2015_train_00020002/000178.JPEG\\n', '1,7,640,480,253,62,100,56,ILSVRC/Data/VID/train/ILSVRC2015_VID_train_0000/ILSVRC2015_train_00020002/000178.JPEG\\n', '0,7,640,480,142,108,497,241,ILSVRC/Data/VID/train/ILSVRC2015_VID_train_0000/ILSVRC2015_train_00020002/000179.JPEG\\n', '1,7,640,480,253,62,100,57,ILSVRC/Data/VID/train/ILSVRC2015_VID_train_0000/ILSVRC2015_train_00020002/000179.JPEG\\n', '0,7,640,480,141,108,498,241,ILSVRC/Data/VID/train/ILSVRC2015_VID_train_0000/ILSVRC2015_train_00020002/000180.JPEG\\n', '1,7,640,480,253,63,100,57,ILSVRC/Data/VID/train/ILSVRC2015_VID_train_0000/ILSVRC2015_train_00020002/000180.JPEG\\n', '0,7,640,480,140,109,499,241,ILSVRC/Data/VID/train/ILSVRC2015_VID_train_0000/ILSVRC2015_train_00020002/000181.JPEG\\n', '1,7,640,480,253,64,100,57,ILSVRC/Data/VID/train/ILSVRC2015_VID_train_0000/ILSVRC2015_train_00020002/000181.JPEG\\n', '0,7,640,480,138,106,501,241,ILSVRC/Data/VID/train/ILSVRC2015_VID_train_0000/ILSVRC2015_train_00020002/000182.JPEG\\n', '1,7,640,480,253,63,100,57,ILSVRC/Data/VID/train/ILSVRC2015_VID_train_0000/ILSVRC2015_train_00020002/000182.JPEG\\n', '0,7,640,480,137,104,503,241,ILSVRC/Data/VID/train/ILSVRC2015_VID_train_0000/ILSVRC2015_train_00020002/000183.JPEG\\n', '1,7,640,480,253,63,100,56,ILSVRC/Data/VID/train/ILSVRC2015_VID_train_0000/ILSVRC2015_train_00020002/000183.JPEG\\n', '0,7,640,480,137,103,503,241,ILSVRC/Data/VID/train/ILSVRC2015_VID_train_0000/ILSVRC2015_train_00020002/000184.JPEG\\n', '1,7,640,480,253,62,100,56,ILSVRC/Data/VID/train/ILSVRC2015_VID_train_0000/ILSVRC2015_train_00020002/000184.JPEG\\n', '0,7,640,480,137,102,503,241,ILSVRC/Data/VID/train/ILSVRC2015_VID_train_0000/ILSVRC2015_train_00020002/000185.JPEG\\n', '1,7,640,480,253,61,100,56,ILSVRC/Data/VID/train/ILSVRC2015_VID_train_0000/ILSVRC2015_train_00020002/000185.JPEG\\n', '0,7,640,480,137,102,503,241,ILSVRC/Data/VID/train/ILSVRC2015_VID_train_0000/ILSVRC2015_train_00020002/000186.JPEG\\n', '1,7,640,480,253,61,100,55,ILSVRC/Data/VID/train/ILSVRC2015_VID_train_0000/ILSVRC2015_train_00020002/000186.JPEG\\n', '0,7,640,480,137,101,503,241,ILSVRC/Data/VID/train/ILSVRC2015_VID_train_0000/ILSVRC2015_train_00020002/000187.JPEG\\n', '1,7,640,480,253,60,100,55,ILSVRC/Data/VID/train/ILSVRC2015_VID_train_0000/ILSVRC2015_train_00020002/000187.JPEG\\n', '0,7,640,480,137,101,503,241,ILSVRC/Data/VID/train/ILSVRC2015_VID_train_0000/ILSVRC2015_train_00020002/000188.JPEG\\n', '1,7,640,480,253,60,100,55,ILSVRC/Data/VID/train/ILSVRC2015_VID_train_0000/ILSVRC2015_train_00020002/000188.JPEG\\n', '0,7,640,480,137,100,503,241,ILSVRC/Data/VID/train/ILSVRC2015_VID_train_0000/ILSVRC2015_train_00020002/000189.JPEG\\n', '1,7,640,480,253,59,100,55,ILSVRC/Data/VID/train/ILSVRC2015_VID_train_0000/ILSVRC2015_train_00020002/000189.JPEG\\n', '0,7,640,480,137,100,503,241,ILSVRC/Data/VID/train/ILSVRC2015_VID_train_0000/ILSVRC2015_train_00020002/000190.JPEG\\n', '1,7,640,480,253,58,100,55,ILSVRC/Data/VID/train/ILSVRC2015_VID_train_0000/ILSVRC2015_train_00020002/000190.JPEG\\n', '0,7,640,480,137,99,503,241,ILSVRC/Data/VID/train/ILSVRC2015_VID_train_0000/ILSVRC2015_train_00020002/000191.JPEG\\n', '1,7,640,480,253,58,100,54,ILSVRC/Data/VID/train/ILSVRC2015_VID_train_0000/ILSVRC2015_train_00020002/000191.JPEG\\n', '0,7,640,480,137,99,503,241,ILSVRC/Data/VID/train/ILSVRC2015_VID_train_0000/ILSVRC2015_train_00020002/000192.JPEG\\n', '1,7,640,480,253,57,100,54,ILSVRC/Data/VID/train/ILSVRC2015_VID_train_0000/ILSVRC2015_train_00020002/000192.JPEG\\n', '0,7,640,480,138,98,502,241,ILSVRC/Data/VID/train/ILSVRC2015_VID_train_0000/ILSVRC2015_train_00020002/000193.JPEG\\n', '1,7,640,480,253,57,100,54,ILSVRC/Data/VID/train/ILSVRC2015_VID_train_0000/ILSVRC2015_train_00020002/000193.JPEG\\n', '0,7,640,480,138,98,502,241,ILSVRC/Data/VID/train/ILSVRC2015_VID_train_0000/ILSVRC2015_train_00020002/000194.JPEG\\n', '1,7,640,480,253,57,100,53,ILSVRC/Data/VID/train/ILSVRC2015_VID_train_0000/ILSVRC2015_train_00020002/000194.JPEG\\n', '0,7,640,480,138,97,502,241,ILSVRC/Data/VID/train/ILSVRC2015_VID_train_0000/ILSVRC2015_train_00020002/000195.JPEG\\n', '1,7,640,480,253,57,100,53,ILSVRC/Data/VID/train/ILSVRC2015_VID_train_0000/ILSVRC2015_train_00020002/000195.JPEG\\n', '0,7,640,480,138,97,502,241,ILSVRC/Data/VID/train/ILSVRC2015_VID_train_0000/ILSVRC2015_train_00020002/000196.JPEG\\n', '1,7,640,480,253,57,100,53,ILSVRC/Data/VID/train/ILSVRC2015_VID_train_0000/ILSVRC2015_train_00020002/000196.JPEG\\n', '0,7,640,480,138,96,502,241,ILSVRC/Data/VID/train/ILSVRC2015_VID_train_0000/ILSVRC2015_train_00020002/000197.JPEG\\n', '1,7,640,480,253,58,100,52,ILSVRC/Data/VID/train/ILSVRC2015_VID_train_0000/ILSVRC2015_train_00020002/000197.JPEG\\n', '0,7,640,480,138,96,502,241,ILSVRC/Data/VID/train/ILSVRC2015_VID_train_0000/ILSVRC2015_train_00020002/000198.JPEG\\n', '1,7,640,480,253,58,100,52,ILSVRC/Data/VID/train/ILSVRC2015_VID_train_0000/ILSVRC2015_train_00020002/000198.JPEG\\n', '0,7,640,480,138,95,502,241,ILSVRC/Data/VID/train/ILSVRC2015_VID_train_0000/ILSVRC2015_train_00020002/000199.JPEG\\n', '1,7,640,480,253,58,100,51,ILSVRC/Data/VID/train/ILSVRC2015_VID_train_0000/ILSVRC2015_train_00020002/000199.JPEG\\n', '0,7,640,480,138,94,502,241,ILSVRC/Data/VID/train/ILSVRC2015_VID_train_0000/ILSVRC2015_train_00020002/000200.JPEG\\n', '1,7,640,480,253,59,100,50,ILSVRC/Data/VID/train/ILSVRC2015_VID_train_0000/ILSVRC2015_train_00020002/000200.JPEG\\n', '0,7,640,480,138,94,502,241,ILSVRC/Data/VID/train/ILSVRC2015_VID_train_0000/ILSVRC2015_train_00020002/000201.JPEG\\n', '1,7,640,480,253,59,100,50,ILSVRC/Data/VID/train/ILSVRC2015_VID_train_0000/ILSVRC2015_train_00020002/000201.JPEG\\n', '0,7,640,480,138,93,502,241,ILSVRC/Data/VID/train/ILSVRC2015_VID_train_0000/ILSVRC2015_train_00020002/000202.JPEG\\n', '1,7,640,480,253,59,100,50,ILSVRC/Data/VID/train/ILSVRC2015_VID_train_0000/ILSVRC2015_train_00020002/000202.JPEG\\n', '0,7,640,480,139,93,501,241,ILSVRC/Data/VID/train/ILSVRC2015_VID_train_0000/ILSVRC2015_train_00020002/000203.JPEG\\n', '1,7,640,480,253,60,100,49,ILSVRC/Data/VID/train/ILSVRC2015_VID_train_0000/ILSVRC2015_train_00020002/000203.JPEG\\n', '0,7,640,480,139,92,501,241,ILSVRC/Data/VID/train/ILSVRC2015_VID_train_0000/ILSVRC2015_train_00020002/000204.JPEG\\n', '1,7,640,480,253,59,100,49,ILSVRC/Data/VID/train/ILSVRC2015_VID_train_0000/ILSVRC2015_train_00020002/000204.JPEG\\n', '0,7,640,480,139,92,501,241,ILSVRC/Data/VID/train/ILSVRC2015_VID_train_0000/ILSVRC2015_train_00020002/000205.JPEG\\n', '1,7,640,480,253,59,100,49,ILSVRC/Data/VID/train/ILSVRC2015_VID_train_0000/ILSVRC2015_train_00020002/000205.JPEG\\n', '0,7,640,480,139,91,501,241,ILSVRC/Data/VID/train/ILSVRC2015_VID_train_0000/ILSVRC2015_train_00020002/000206.JPEG\\n', '1,7,640,480,253,59,100,48,ILSVRC/Data/VID/train/ILSVRC2015_VID_train_0000/ILSVRC2015_train_00020002/000206.JPEG\\n', '0,7,640,480,139,91,501,241,ILSVRC/Data/VID/train/ILSVRC2015_VID_train_0000/ILSVRC2015_train_00020002/000207.JPEG\\n', '1,7,640,480,253,58,100,49,ILSVRC/Data/VID/train/ILSVRC2015_VID_train_0000/ILSVRC2015_train_00020002/000207.JPEG\\n', '0,7,640,480,139,90,501,241,ILSVRC/Data/VID/train/ILSVRC2015_VID_train_0000/ILSVRC2015_train_00020002/000208.JPEG\\n', '1,7,640,480,253,58,100,48,ILSVRC/Data/VID/train/ILSVRC2015_VID_train_0000/ILSVRC2015_train_00020002/000208.JPEG\\n', '0,7,640,480,139,90,501,241,ILSVRC/Data/VID/train/ILSVRC2015_VID_train_0000/ILSVRC2015_train_00020002/000209.JPEG\\n', '1,7,640,480,253,58,100,48,ILSVRC/Data/VID/train/ILSVRC2015_VID_train_0000/ILSVRC2015_train_00020002/000209.JPEG\\n', '0,7,640,480,139,89,501,241,ILSVRC/Data/VID/train/ILSVRC2015_VID_train_0000/ILSVRC2015_train_00020002/000210.JPEG\\n', '1,7,640,480,253,57,100,48,ILSVRC/Data/VID/train/ILSVRC2015_VID_train_0000/ILSVRC2015_train_00020002/000210.JPEG\\n', '0,7,640,480,139,89,501,241,ILSVRC/Data/VID/train/ILSVRC2015_VID_train_0000/ILSVRC2015_train_00020002/000211.JPEG\\n', '1,7,640,480,253,57,100,48,ILSVRC/Data/VID/train/ILSVRC2015_VID_train_0000/ILSVRC2015_train_00020002/000211.JPEG\\n', '0,7,640,480,139,88,501,241,ILSVRC/Data/VID/train/ILSVRC2015_VID_train_0000/ILSVRC2015_train_00020002/000212.JPEG\\n', '1,7,640,480,253,57,100,47,ILSVRC/Data/VID/train/ILSVRC2015_VID_train_0000/ILSVRC2015_train_00020002/000212.JPEG\\n', '0,7,640,480,140,88,500,241,ILSVRC/Data/VID/train/ILSVRC2015_VID_train_0000/ILSVRC2015_train_00020002/000213.JPEG\\n', '1,7,640,480,253,57,100,47,ILSVRC/Data/VID/train/ILSVRC2015_VID_train_0000/ILSVRC2015_train_00020002/000213.JPEG\\n', '0,7,640,480,140,88,500,241,ILSVRC/Data/VID/train/ILSVRC2015_VID_train_0000/ILSVRC2015_train_00020002/000214.JPEG\\n', '1,7,640,480,253,57,100,47,ILSVRC/Data/VID/train/ILSVRC2015_VID_train_0000/ILSVRC2015_train_00020002/000214.JPEG\\n', '0,7,640,480,140,89,500,241,ILSVRC/Data/VID/train/ILSVRC2015_VID_train_0000/ILSVRC2015_train_00020002/000215.JPEG\\n', '1,7,640,480,253,57,100,47,ILSVRC/Data/VID/train/ILSVRC2015_VID_train_0000/ILSVRC2015_train_00020002/000215.JPEG\\n', '0,7,640,480,140,90,500,241,ILSVRC/Data/VID/train/ILSVRC2015_VID_train_0000/ILSVRC2015_train_00020002/000216.JPEG\\n', '1,7,640,480,253,57,101,47,ILSVRC/Data/VID/train/ILSVRC2015_VID_train_0000/ILSVRC2015_train_00020002/000216.JPEG\\n', '0,7,640,480,140,91,500,241,ILSVRC/Data/VID/train/ILSVRC2015_VID_train_0000/ILSVRC2015_train_00020002/000217.JPEG\\n', '1,7,640,480,253,57,101,47,ILSVRC/Data/VID/train/ILSVRC2015_VID_train_0000/ILSVRC2015_train_00020002/000217.JPEG\\n', '0,7,640,480,140,92,500,241,ILSVRC/Data/VID/train/ILSVRC2015_VID_train_0000/ILSVRC2015_train_00020002/000218.JPEG\\n', '1,7,640,480,254,57,100,47,ILSVRC/Data/VID/train/ILSVRC2015_VID_train_0000/ILSVRC2015_train_00020002/000218.JPEG\\n', '0,7,640,480,140,92,500,241,ILSVRC/Data/VID/train/ILSVRC2015_VID_train_0000/ILSVRC2015_train_00020002/000219.JPEG\\n', '1,7,640,480,254,57,101,47,ILSVRC/Data/VID/train/ILSVRC2015_VID_train_0000/ILSVRC2015_train_00020002/000219.JPEG\\n', '0,7,640,480,140,93,500,241,ILSVRC/Data/VID/train/ILSVRC2015_VID_train_0000/ILSVRC2015_train_00020002/000220.JPEG\\n', '1,7,640,480,254,57,101,47,ILSVRC/Data/VID/train/ILSVRC2015_VID_train_0000/ILSVRC2015_train_00020002/000220.JPEG\\n', '0,7,640,480,140,94,500,241,ILSVRC/Data/VID/train/ILSVRC2015_VID_train_0000/ILSVRC2015_train_00020002/000221.JPEG\\n', '1,7,640,480,254,57,101,47,ILSVRC/Data/VID/train/ILSVRC2015_VID_train_0000/ILSVRC2015_train_00020002/000221.JPEG\\n', '0,7,640,480,140,95,500,241,ILSVRC/Data/VID/train/ILSVRC2015_VID_train_0000/ILSVRC2015_train_00020002/000222.JPEG\\n', '1,7,640,480,254,57,102,47,ILSVRC/Data/VID/train/ILSVRC2015_VID_train_0000/ILSVRC2015_train_00020002/000222.JPEG\\n', '0,7,640,480,140,96,500,241,ILSVRC/Data/VID/train/ILSVRC2015_VID_train_0000/ILSVRC2015_train_00020002/000223.JPEG\\n', '1,7,640,480,255,57,101,47,ILSVRC/Data/VID/train/ILSVRC2015_VID_train_0000/ILSVRC2015_train_00020002/000223.JPEG\\n', '0,7,640,480,140,96,500,241,ILSVRC/Data/VID/train/ILSVRC2015_VID_train_0000/ILSVRC2015_train_00020002/000224.JPEG\\n', '1,7,640,480,255,57,101,47,ILSVRC/Data/VID/train/ILSVRC2015_VID_train_0000/ILSVRC2015_train_00020002/000224.JPEG\\n', '0,7,640,480,140,96,500,241,ILSVRC/Data/VID/train/ILSVRC2015_VID_train_0000/ILSVRC2015_train_00020002/000225.JPEG\\n', '1,7,640,480,255,57,102,47,ILSVRC/Data/VID/train/ILSVRC2015_VID_train_0000/ILSVRC2015_train_00020002/000225.JPEG\\n', '0,7,640,480,140,96,500,241,ILSVRC/Data/VID/train/ILSVRC2015_VID_train_0000/ILSVRC2015_train_00020002/000226.JPEG\\n', '1,7,640,480,255,57,102,47,ILSVRC/Data/VID/train/ILSVRC2015_VID_train_0000/ILSVRC2015_train_00020002/000226.JPEG\\n', '0,7,640,480,140,96,500,241,ILSVRC/Data/VID/train/ILSVRC2015_VID_train_0000/ILSVRC2015_train_00020002/000227.JPEG\\n', '1,7,640,480,255,57,102,47,ILSVRC/Data/VID/train/ILSVRC2015_VID_train_0000/ILSVRC2015_train_00020002/000227.JPEG\\n', '0,7,640,480,140,96,500,241,ILSVRC/Data/VID/train/ILSVRC2015_VID_train_0000/ILSVRC2015_train_00020002/000228.JPEG\\n', '1,7,640,480,256,57,102,47,ILSVRC/Data/VID/train/ILSVRC2015_VID_train_0000/ILSVRC2015_train_00020002/000228.JPEG\\n', '0,7,640,480,140,96,500,241,ILSVRC/Data/VID/train/ILSVRC2015_VID_train_0000/ILSVRC2015_train_00020002/000229.JPEG\\n', '1,7,640,480,256,57,102,47,ILSVRC/Data/VID/train/ILSVRC2015_VID_train_0000/ILSVRC2015_train_00020002/000229.JPEG']\n"
     ]
    },
    {
     "name": "stdout",
     "output_type": "stream",
     "text": [
      "(Pdb) next\n",
      "> <ipython-input-15-efbbd8372a71>(19)<module>()\n",
      "-> img_name = ntpath.basename(img_path).split('.')[0]\n",
      "(Pdb) next\n",
      "> <ipython-input-15-efbbd8372a71>(20)<module>()\n",
      "-> crop_img_z_name = img_name + \"_\" + \"%02d\" % track_id + \".crop.z.jpg\"\n",
      "(Pdb) img_name\n",
      "'000000'\n",
      "(Pdb) records[0]\n",
      "'0,7,640,480,109,103,531,250,ILSVRC/Data/VID/train/ILSVRC2015_VID_train_0000/ILSVRC2015_train_00020002/000000.JPEG\\n'\n",
      "(Pdb) records[1]\n",
      "'1,7,640,480,199,64,91,58,ILSVRC/Data/VID/train/ILSVRC2015_VID_train_0000/ILSVRC2015_train_00020002/000000.JPEG\\n'\n",
      "(Pdb) records[2]\n",
      "'0,7,640,480,109,102,531,251,ILSVRC/Data/VID/train/ILSVRC2015_VID_train_0000/ILSVRC2015_train_00020002/000001.JPEG\\n'\n",
      "(Pdb) next\n",
      "> <ipython-input-15-efbbd8372a71>(21)<module>()\n",
      "-> crop_img_x_name = img_name + \"_\" + \"%02d\" % track_id + \".crop.x.jpg\"\n",
      "(Pdb) crop_img_z_name\n",
      "'000000_00.crop.z.jpg'\n",
      "(Pdb) next\n",
      "> <ipython-input-15-efbbd8372a71>(23)<module>()\n",
      "-> crop_img_z_path = os.path.join(crop_sub_dir_path, crop_img_z_name)\n",
      "(Pdb) next\n",
      "> <ipython-input-15-efbbd8372a71>(24)<module>()\n",
      "-> crop_img_x_path = os.path.join(crop_sub_dir_path, crop_img_x_name)\n",
      "(Pdb) next\n",
      "> <ipython-input-15-efbbd8372a71>(26)<module>()\n",
      "-> if os.path.isfile(crop_img_z_path) and os.path.isfile(crop_img_x_path):\n",
      "(Pdb) next\n",
      "> <ipython-input-15-efbbd8372a71>(27)<module>()\n",
      "-> continue\n",
      "(Pdb) next\n",
      "> <ipython-input-15-efbbd8372a71>(18)<module>()\n",
      "-> for record in records:\n",
      "(Pdb) next\n",
      "> <ipython-input-15-efbbd8372a71>(19)<module>()\n",
      "-> img_name = ntpath.basename(img_path).split('.')[0]\n",
      "(Pdb) record\n",
      "'1,7,640,480,199,64,91,58,ILSVRC/Data/VID/train/ILSVRC2015_VID_train_0000/ILSVRC2015_train_00020002/000000.JPEG\\n'\n",
      "(Pdb) next\n",
      "> <ipython-input-15-efbbd8372a71>(20)<module>()\n",
      "-> crop_img_z_name = img_name + \"_\" + \"%02d\" % track_id + \".crop.z.jpg\"\n",
      "(Pdb) crop_img_z_name\n",
      "'000000_00.crop.z.jpg'\n",
      "(Pdb) next\n",
      "> <ipython-input-15-efbbd8372a71>(21)<module>()\n",
      "-> crop_img_x_name = img_name + \"_\" + \"%02d\" % track_id + \".crop.x.jpg\"\n",
      "(Pdb) next\n",
      "> <ipython-input-15-efbbd8372a71>(23)<module>()\n",
      "-> crop_img_z_path = os.path.join(crop_sub_dir_path, crop_img_z_name)\n",
      "(Pdb) crop_img_z_name\n",
      "'000000_00.crop.z.jpg'\n",
      "(Pdb) track_id\n",
      "0\n",
      "(Pdb) exit\n"
     ]
    },
    {
     "ename": "BdbQuit",
     "evalue": "",
     "output_type": "error",
     "traceback": [
      "\u001b[0;31m---------------------------------------------------------------------------\u001b[0m",
      "\u001b[0;31mBdbQuit\u001b[0m                                   Traceback (most recent call last)",
      "\u001b[0;32m<ipython-input-15-efbbd8372a71>\u001b[0m in \u001b[0;36m<module>\u001b[0;34m()\u001b[0m\n\u001b[1;32m     21\u001b[0m             \u001b[0mcrop_img_x_name\u001b[0m \u001b[0;34m=\u001b[0m \u001b[0mimg_name\u001b[0m \u001b[0;34m+\u001b[0m \u001b[0;34m\"_\"\u001b[0m \u001b[0;34m+\u001b[0m \u001b[0;34m\"%02d\"\u001b[0m \u001b[0;34m%\u001b[0m \u001b[0mtrack_id\u001b[0m \u001b[0;34m+\u001b[0m \u001b[0;34m\".crop.x.jpg\"\u001b[0m\u001b[0;34m\u001b[0m\u001b[0m\n\u001b[1;32m     22\u001b[0m \u001b[0;34m\u001b[0m\u001b[0m\n\u001b[0;32m---> 23\u001b[0;31m             \u001b[0mcrop_img_z_path\u001b[0m \u001b[0;34m=\u001b[0m \u001b[0mos\u001b[0m\u001b[0;34m.\u001b[0m\u001b[0mpath\u001b[0m\u001b[0;34m.\u001b[0m\u001b[0mjoin\u001b[0m\u001b[0;34m(\u001b[0m\u001b[0mcrop_sub_dir_path\u001b[0m\u001b[0;34m,\u001b[0m \u001b[0mcrop_img_z_name\u001b[0m\u001b[0;34m)\u001b[0m\u001b[0;34m\u001b[0m\u001b[0m\n\u001b[0m\u001b[1;32m     24\u001b[0m             \u001b[0mcrop_img_x_path\u001b[0m \u001b[0;34m=\u001b[0m \u001b[0mos\u001b[0m\u001b[0;34m.\u001b[0m\u001b[0mpath\u001b[0m\u001b[0;34m.\u001b[0m\u001b[0mjoin\u001b[0m\u001b[0;34m(\u001b[0m\u001b[0mcrop_sub_dir_path\u001b[0m\u001b[0;34m,\u001b[0m \u001b[0mcrop_img_x_name\u001b[0m\u001b[0;34m)\u001b[0m\u001b[0;34m\u001b[0m\u001b[0m\n\u001b[1;32m     25\u001b[0m \u001b[0;34m\u001b[0m\u001b[0m\n",
      "\u001b[0;32m<ipython-input-15-efbbd8372a71>\u001b[0m in \u001b[0;36m<module>\u001b[0;34m()\u001b[0m\n\u001b[1;32m     21\u001b[0m             \u001b[0mcrop_img_x_name\u001b[0m \u001b[0;34m=\u001b[0m \u001b[0mimg_name\u001b[0m \u001b[0;34m+\u001b[0m \u001b[0;34m\"_\"\u001b[0m \u001b[0;34m+\u001b[0m \u001b[0;34m\"%02d\"\u001b[0m \u001b[0;34m%\u001b[0m \u001b[0mtrack_id\u001b[0m \u001b[0;34m+\u001b[0m \u001b[0;34m\".crop.x.jpg\"\u001b[0m\u001b[0;34m\u001b[0m\u001b[0m\n\u001b[1;32m     22\u001b[0m \u001b[0;34m\u001b[0m\u001b[0m\n\u001b[0;32m---> 23\u001b[0;31m             \u001b[0mcrop_img_z_path\u001b[0m \u001b[0;34m=\u001b[0m \u001b[0mos\u001b[0m\u001b[0;34m.\u001b[0m\u001b[0mpath\u001b[0m\u001b[0;34m.\u001b[0m\u001b[0mjoin\u001b[0m\u001b[0;34m(\u001b[0m\u001b[0mcrop_sub_dir_path\u001b[0m\u001b[0;34m,\u001b[0m \u001b[0mcrop_img_z_name\u001b[0m\u001b[0;34m)\u001b[0m\u001b[0;34m\u001b[0m\u001b[0m\n\u001b[0m\u001b[1;32m     24\u001b[0m             \u001b[0mcrop_img_x_path\u001b[0m \u001b[0;34m=\u001b[0m \u001b[0mos\u001b[0m\u001b[0;34m.\u001b[0m\u001b[0mpath\u001b[0m\u001b[0;34m.\u001b[0m\u001b[0mjoin\u001b[0m\u001b[0;34m(\u001b[0m\u001b[0mcrop_sub_dir_path\u001b[0m\u001b[0;34m,\u001b[0m \u001b[0mcrop_img_x_name\u001b[0m\u001b[0;34m)\u001b[0m\u001b[0;34m\u001b[0m\u001b[0m\n\u001b[1;32m     25\u001b[0m \u001b[0;34m\u001b[0m\u001b[0m\n",
      "\u001b[0;32m/usr/lib/python3.4/bdb.py\u001b[0m in \u001b[0;36mtrace_dispatch\u001b[0;34m(self, frame, event, arg)\u001b[0m\n\u001b[1;32m     46\u001b[0m             \u001b[0;32mreturn\u001b[0m \u001b[0;31m# None\u001b[0m\u001b[0;34m\u001b[0m\u001b[0m\n\u001b[1;32m     47\u001b[0m         \u001b[0;32mif\u001b[0m \u001b[0mevent\u001b[0m \u001b[0;34m==\u001b[0m \u001b[0;34m'line'\u001b[0m\u001b[0;34m:\u001b[0m\u001b[0;34m\u001b[0m\u001b[0m\n\u001b[0;32m---> 48\u001b[0;31m             \u001b[0;32mreturn\u001b[0m \u001b[0mself\u001b[0m\u001b[0;34m.\u001b[0m\u001b[0mdispatch_line\u001b[0m\u001b[0;34m(\u001b[0m\u001b[0mframe\u001b[0m\u001b[0;34m)\u001b[0m\u001b[0;34m\u001b[0m\u001b[0m\n\u001b[0m\u001b[1;32m     49\u001b[0m         \u001b[0;32mif\u001b[0m \u001b[0mevent\u001b[0m \u001b[0;34m==\u001b[0m \u001b[0;34m'call'\u001b[0m\u001b[0;34m:\u001b[0m\u001b[0;34m\u001b[0m\u001b[0m\n\u001b[1;32m     50\u001b[0m             \u001b[0;32mreturn\u001b[0m \u001b[0mself\u001b[0m\u001b[0;34m.\u001b[0m\u001b[0mdispatch_call\u001b[0m\u001b[0;34m(\u001b[0m\u001b[0mframe\u001b[0m\u001b[0;34m,\u001b[0m \u001b[0marg\u001b[0m\u001b[0;34m)\u001b[0m\u001b[0;34m\u001b[0m\u001b[0m\n",
      "\u001b[0;32m/usr/lib/python3.4/bdb.py\u001b[0m in \u001b[0;36mdispatch_line\u001b[0;34m(self, frame)\u001b[0m\n\u001b[1;32m     65\u001b[0m         \u001b[0;32mif\u001b[0m \u001b[0mself\u001b[0m\u001b[0;34m.\u001b[0m\u001b[0mstop_here\u001b[0m\u001b[0;34m(\u001b[0m\u001b[0mframe\u001b[0m\u001b[0;34m)\u001b[0m \u001b[0;32mor\u001b[0m \u001b[0mself\u001b[0m\u001b[0;34m.\u001b[0m\u001b[0mbreak_here\u001b[0m\u001b[0;34m(\u001b[0m\u001b[0mframe\u001b[0m\u001b[0;34m)\u001b[0m\u001b[0;34m:\u001b[0m\u001b[0;34m\u001b[0m\u001b[0m\n\u001b[1;32m     66\u001b[0m             \u001b[0mself\u001b[0m\u001b[0;34m.\u001b[0m\u001b[0muser_line\u001b[0m\u001b[0;34m(\u001b[0m\u001b[0mframe\u001b[0m\u001b[0;34m)\u001b[0m\u001b[0;34m\u001b[0m\u001b[0m\n\u001b[0;32m---> 67\u001b[0;31m             \u001b[0;32mif\u001b[0m \u001b[0mself\u001b[0m\u001b[0;34m.\u001b[0m\u001b[0mquitting\u001b[0m\u001b[0;34m:\u001b[0m \u001b[0;32mraise\u001b[0m \u001b[0mBdbQuit\u001b[0m\u001b[0;34m\u001b[0m\u001b[0m\n\u001b[0m\u001b[1;32m     68\u001b[0m         \u001b[0;32mreturn\u001b[0m \u001b[0mself\u001b[0m\u001b[0;34m.\u001b[0m\u001b[0mtrace_dispatch\u001b[0m\u001b[0;34m\u001b[0m\u001b[0m\n\u001b[1;32m     69\u001b[0m \u001b[0;34m\u001b[0m\u001b[0m\n",
      "\u001b[0;31mBdbQuit\u001b[0m: "
     ]
    }
   ],
   "source": [
    "root_crop_data_dir = os.path.join(root_crop_dir, 'Data/VID/train')\n",
    "for i, dir in enumerate(dirs):\n",
    "    print(dir)\n",
    "    dir_path = os.path.join(root_data_dir, dir)\n",
    "    crop_dir_path = os.path.join(root_crop_data_dir, dir)\n",
    "    sub_dirs = os.listdir(dir_path)\n",
    "    sub_dirs.sort()\n",
    "    for j, sub_dir in enumerate(sub_dirs):\n",
    "        sub_dir_path = os.path.join(dir_path, sub_dir)\n",
    "        if sub_dir_path.endswith(\"txt\") == False:\n",
    "            continue\n",
    "        print(\"    \" + sub_dir)\n",
    "        crop_sub_dir_path = os.path.join(crop_dir_path, sub_dir.split('.')[0])\n",
    "        with open(sub_dir_path, 'r') as f:\n",
    "            records = f.readlines()\n",
    "        for record in records:\n",
    "            record = record.strip()\n",
    "            info = record.split(',')\n",
    "            track_id, class_id, width, height, xmin, ymin, box_width, box_height, img_path = \\\n",
    "                [int(info[0]), int(info[1]), int(info[2]), int(info[3]), int(info[4]), int(info[5]), int(info[6]), \\\n",
    "                 int(info[7]), info[8]]\n",
    "            img = misc.imread(img_path)\n",
    "            \n",
    "            img_name = ntpath.basename(img_path).split('.')[0]\n",
    "            crop_img_z_name = img_name + \"_\" + \"%02d\" % track_id + \".crop.z.jpg\"\n",
    "            crop_img_x_name = img_name + \"_\" + \"%02d\" % track_id + \".crop.x.jpg\"\n",
    "            \n",
    "            crop_img_z_path = os.path.join(crop_sub_dir_path, crop_img_z_name)\n",
    "            crop_img_x_path = os.path.join(crop_sub_dir_path, crop_img_x_name)\n",
    "            \n",
    "#             if os.path.isfile(crop_img_z_path) and os.path.isfile(crop_img_x_path):\n",
    "#                 continue\n",
    "\n",
    "            img_crop_z, pad_z, img_crop_x, pad_x = get_crops(img, xmin, ymin, box_width, box_height)\n",
    "            \n",
    "            misc.imsave(crop_img_z_path, img_crop_z)\n",
    "            misc.imsave(crop_img_x_path, img_crop_x)"
   ]
  },
  {
   "cell_type": "code",
   "execution_count": null,
   "metadata": {
    "collapsed": true
   },
   "outputs": [],
   "source": []
  }
 ],
 "metadata": {
  "kernelspec": {
   "display_name": "Python 3",
   "language": "python",
   "name": "python3"
  },
  "language_info": {
   "codemirror_mode": {
    "name": "ipython",
    "version": 3
   },
   "file_extension": ".py",
   "mimetype": "text/x-python",
   "name": "python",
   "nbconvert_exporter": "python",
   "pygments_lexer": "ipython3",
   "version": "3.4.3"
  }
 },
 "nbformat": 4,
 "nbformat_minor": 2
}
